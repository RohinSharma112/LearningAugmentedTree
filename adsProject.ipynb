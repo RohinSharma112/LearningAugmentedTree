{
 "cells": [
  {
   "cell_type": "code",
   "execution_count": 1,
   "id": "8d7818be-6214-4077-aaef-81d666f2fee5",
   "metadata": {},
   "outputs": [],
   "source": [
    "import pandas as pd\n",
    "import numpy as np\n",
    "import numpy as np\n",
    "from tensorflow.keras import Model\n",
    "from tensorflow.keras.layers import LSTM, Activation, Dense, Dropout, Input, Embedding, SimpleRNN, GRU\n",
    "from tensorflow.keras.optimizers import Adam\n",
    "from tensorflow.keras.losses import MeanSquaredError, MeanAbsoluteError"
   ]
  },
  {
   "cell_type": "code",
   "execution_count": 205,
   "id": "a3dbbc85-d81f-4f2c-92dc-3544f61e0de6",
   "metadata": {},
   "outputs": [],
   "source": [
    "aol_query_data = pd.read_csv(\"user-ct-test-collection-02.txt\", sep=\"\\t\", on_bad_lines='skip')"
   ]
  },
  {
   "cell_type": "code",
   "execution_count": 206,
   "id": "2ad337a5-956a-4d20-97b5-373c7c64718f",
   "metadata": {},
   "outputs": [
    {
     "data": {
      "text/html": [
       "<div>\n",
       "<style scoped>\n",
       "    .dataframe tbody tr th:only-of-type {\n",
       "        vertical-align: middle;\n",
       "    }\n",
       "\n",
       "    .dataframe tbody tr th {\n",
       "        vertical-align: top;\n",
       "    }\n",
       "\n",
       "    .dataframe thead th {\n",
       "        text-align: right;\n",
       "    }\n",
       "</style>\n",
       "<table border=\"1\" class=\"dataframe\">\n",
       "  <thead>\n",
       "    <tr style=\"text-align: right;\">\n",
       "      <th></th>\n",
       "      <th>AnonID</th>\n",
       "      <th>Query</th>\n",
       "      <th>QueryTime</th>\n",
       "      <th>ItemRank</th>\n",
       "      <th>ClickURL</th>\n",
       "    </tr>\n",
       "  </thead>\n",
       "  <tbody>\n",
       "    <tr>\n",
       "      <th>0</th>\n",
       "      <td>479</td>\n",
       "      <td>family guy</td>\n",
       "      <td>2006-03-01 16:01:20</td>\n",
       "      <td>NaN</td>\n",
       "      <td>NaN</td>\n",
       "    </tr>\n",
       "    <tr>\n",
       "      <th>1</th>\n",
       "      <td>479</td>\n",
       "      <td>also sprach zarathustra</td>\n",
       "      <td>2006-03-02 14:48:55</td>\n",
       "      <td>NaN</td>\n",
       "      <td>NaN</td>\n",
       "    </tr>\n",
       "    <tr>\n",
       "      <th>2</th>\n",
       "      <td>479</td>\n",
       "      <td>family guy movie references</td>\n",
       "      <td>2006-03-03 22:37:46</td>\n",
       "      <td>1.0</td>\n",
       "      <td>http://www.familyguyfiles.com</td>\n",
       "    </tr>\n",
       "    <tr>\n",
       "      <th>3</th>\n",
       "      <td>479</td>\n",
       "      <td>top grossing movies of all time</td>\n",
       "      <td>2006-03-03 22:42:42</td>\n",
       "      <td>1.0</td>\n",
       "      <td>http://movieweb.com</td>\n",
       "    </tr>\n",
       "    <tr>\n",
       "      <th>4</th>\n",
       "      <td>479</td>\n",
       "      <td>top grossing movies of all time</td>\n",
       "      <td>2006-03-03 22:42:42</td>\n",
       "      <td>2.0</td>\n",
       "      <td>http://www.imdb.com</td>\n",
       "    </tr>\n",
       "    <tr>\n",
       "      <th>...</th>\n",
       "      <td>...</td>\n",
       "      <td>...</td>\n",
       "      <td>...</td>\n",
       "      <td>...</td>\n",
       "      <td>...</td>\n",
       "    </tr>\n",
       "    <tr>\n",
       "      <th>3614501</th>\n",
       "      <td>24969423</td>\n",
       "      <td>my space. com</td>\n",
       "      <td>2006-05-31 19:03:32</td>\n",
       "      <td>2.0</td>\n",
       "      <td>http://music.myspace.com</td>\n",
       "    </tr>\n",
       "    <tr>\n",
       "      <th>3614502</th>\n",
       "      <td>24969423</td>\n",
       "      <td>my space.com</td>\n",
       "      <td>2006-05-31 19:12:00</td>\n",
       "      <td>NaN</td>\n",
       "      <td>NaN</td>\n",
       "    </tr>\n",
       "    <tr>\n",
       "      <th>3614503</th>\n",
       "      <td>24969423</td>\n",
       "      <td>my space.com 3131560415</td>\n",
       "      <td>2006-05-31 19:12:25</td>\n",
       "      <td>NaN</td>\n",
       "      <td>NaN</td>\n",
       "    </tr>\n",
       "    <tr>\n",
       "      <th>3614504</th>\n",
       "      <td>24969423</td>\n",
       "      <td>jennifer craford my space.com</td>\n",
       "      <td>2006-05-31 19:15:02</td>\n",
       "      <td>NaN</td>\n",
       "      <td>NaN</td>\n",
       "    </tr>\n",
       "    <tr>\n",
       "      <th>3614505</th>\n",
       "      <td>24969423</td>\n",
       "      <td>jennifer crawford my space.com</td>\n",
       "      <td>2006-05-31 19:16:05</td>\n",
       "      <td>NaN</td>\n",
       "      <td>NaN</td>\n",
       "    </tr>\n",
       "  </tbody>\n",
       "</table>\n",
       "<p>3614506 rows × 5 columns</p>\n",
       "</div>"
      ],
      "text/plain": [
       "           AnonID                            Query            QueryTime   \n",
       "0             479                       family guy  2006-03-01 16:01:20  \\\n",
       "1             479          also sprach zarathustra  2006-03-02 14:48:55   \n",
       "2             479      family guy movie references  2006-03-03 22:37:46   \n",
       "3             479  top grossing movies of all time  2006-03-03 22:42:42   \n",
       "4             479  top grossing movies of all time  2006-03-03 22:42:42   \n",
       "...           ...                              ...                  ...   \n",
       "3614501  24969423                    my space. com  2006-05-31 19:03:32   \n",
       "3614502  24969423                     my space.com  2006-05-31 19:12:00   \n",
       "3614503  24969423          my space.com 3131560415  2006-05-31 19:12:25   \n",
       "3614504  24969423    jennifer craford my space.com  2006-05-31 19:15:02   \n",
       "3614505  24969423   jennifer crawford my space.com  2006-05-31 19:16:05   \n",
       "\n",
       "         ItemRank                       ClickURL  \n",
       "0             NaN                            NaN  \n",
       "1             NaN                            NaN  \n",
       "2             1.0  http://www.familyguyfiles.com  \n",
       "3             1.0            http://movieweb.com  \n",
       "4             2.0            http://www.imdb.com  \n",
       "...           ...                            ...  \n",
       "3614501       2.0       http://music.myspace.com  \n",
       "3614502       NaN                            NaN  \n",
       "3614503       NaN                            NaN  \n",
       "3614504       NaN                            NaN  \n",
       "3614505       NaN                            NaN  \n",
       "\n",
       "[3614506 rows x 5 columns]"
      ]
     },
     "execution_count": 206,
     "metadata": {},
     "output_type": "execute_result"
    }
   ],
   "source": [
    "aol_query_data"
   ]
  },
  {
   "cell_type": "code",
   "execution_count": 3,
   "id": "27cd8fbd-ed98-4a62-8994-0ad571cdf3aa",
   "metadata": {},
   "outputs": [],
   "source": [
    "aol_query_data[['Date', 'Time']] = aol_query_data.QueryTime.str.split(\" \", expand = True)"
   ]
  },
  {
   "cell_type": "code",
   "execution_count": 4,
   "id": "01a6cdfc-0e55-4f17-97ad-9d27bc1befa1",
   "metadata": {},
   "outputs": [
    {
     "data": {
      "text/plain": [
       "129"
      ]
     },
     "execution_count": 4,
     "metadata": {},
     "output_type": "execute_result"
    }
   ],
   "source": [
    "aol_query_data['Query'].isnull().sum()"
   ]
  },
  {
   "cell_type": "code",
   "execution_count": 5,
   "id": "66a51ec9-4766-408e-bd67-a9db3a49f2cb",
   "metadata": {},
   "outputs": [
    {
     "data": {
      "text/plain": [
       "0"
      ]
     },
     "execution_count": 5,
     "metadata": {},
     "output_type": "execute_result"
    }
   ],
   "source": [
    "aol_query_data['Date'].isnull().sum()"
   ]
  },
  {
   "cell_type": "code",
   "execution_count": 6,
   "id": "75c9314b-d7c0-4071-88ac-2d8754eab10b",
   "metadata": {},
   "outputs": [],
   "source": [
    "aol_query_data['Query'].replace('', np.nan, inplace=True)"
   ]
  },
  {
   "cell_type": "code",
   "execution_count": 7,
   "id": "ccb839f8-2e18-451e-8502-6ec1a4bc415c",
   "metadata": {},
   "outputs": [],
   "source": [
    "aol_query_data['Query'].replace('-', np.nan, inplace=True)"
   ]
  },
  {
   "cell_type": "code",
   "execution_count": 8,
   "id": "e7f83553-e18f-4d71-bb34-3f460e94eeba",
   "metadata": {},
   "outputs": [],
   "source": [
    "aol_query_data.dropna(subset=['Query'], inplace=True)"
   ]
  },
  {
   "cell_type": "code",
   "execution_count": 9,
   "id": "22b91704-9f0c-40b9-80ea-5d15011267bf",
   "metadata": {},
   "outputs": [],
   "source": [
    "aol_query_data.drop(['AnonID', 'ItemRank', 'ClickURL', 'Time', 'QueryTime'], axis=1, inplace=True)"
   ]
  },
  {
   "cell_type": "code",
   "execution_count": 10,
   "id": "bb9e784b-8a1c-4a53-b930-27ffa0723dfe",
   "metadata": {},
   "outputs": [],
   "source": [
    "aol_query_data.reset_index(drop=\"True\", inplace=True)"
   ]
  },
  {
   "cell_type": "code",
   "execution_count": 11,
   "id": "650baa39-0a84-4f4f-8dd3-9d835f0aed64",
   "metadata": {},
   "outputs": [
    {
     "data": {
      "text/html": [
       "<div>\n",
       "<style scoped>\n",
       "    .dataframe tbody tr th:only-of-type {\n",
       "        vertical-align: middle;\n",
       "    }\n",
       "\n",
       "    .dataframe tbody tr th {\n",
       "        vertical-align: top;\n",
       "    }\n",
       "\n",
       "    .dataframe thead th {\n",
       "        text-align: right;\n",
       "    }\n",
       "</style>\n",
       "<table border=\"1\" class=\"dataframe\">\n",
       "  <thead>\n",
       "    <tr style=\"text-align: right;\">\n",
       "      <th></th>\n",
       "      <th>Query</th>\n",
       "      <th>Date</th>\n",
       "    </tr>\n",
       "  </thead>\n",
       "  <tbody>\n",
       "    <tr>\n",
       "      <th>0</th>\n",
       "      <td>family guy</td>\n",
       "      <td>2006-03-01</td>\n",
       "    </tr>\n",
       "    <tr>\n",
       "      <th>1</th>\n",
       "      <td>also sprach zarathustra</td>\n",
       "      <td>2006-03-02</td>\n",
       "    </tr>\n",
       "    <tr>\n",
       "      <th>2</th>\n",
       "      <td>family guy movie references</td>\n",
       "      <td>2006-03-03</td>\n",
       "    </tr>\n",
       "    <tr>\n",
       "      <th>3</th>\n",
       "      <td>top grossing movies of all time</td>\n",
       "      <td>2006-03-03</td>\n",
       "    </tr>\n",
       "    <tr>\n",
       "      <th>4</th>\n",
       "      <td>top grossing movies of all time</td>\n",
       "      <td>2006-03-03</td>\n",
       "    </tr>\n",
       "    <tr>\n",
       "      <th>...</th>\n",
       "      <td>...</td>\n",
       "      <td>...</td>\n",
       "    </tr>\n",
       "    <tr>\n",
       "      <th>3515818</th>\n",
       "      <td>my space. com</td>\n",
       "      <td>2006-05-31</td>\n",
       "    </tr>\n",
       "    <tr>\n",
       "      <th>3515819</th>\n",
       "      <td>my space.com</td>\n",
       "      <td>2006-05-31</td>\n",
       "    </tr>\n",
       "    <tr>\n",
       "      <th>3515820</th>\n",
       "      <td>my space.com 3131560415</td>\n",
       "      <td>2006-05-31</td>\n",
       "    </tr>\n",
       "    <tr>\n",
       "      <th>3515821</th>\n",
       "      <td>jennifer craford my space.com</td>\n",
       "      <td>2006-05-31</td>\n",
       "    </tr>\n",
       "    <tr>\n",
       "      <th>3515822</th>\n",
       "      <td>jennifer crawford my space.com</td>\n",
       "      <td>2006-05-31</td>\n",
       "    </tr>\n",
       "  </tbody>\n",
       "</table>\n",
       "<p>3515823 rows × 2 columns</p>\n",
       "</div>"
      ],
      "text/plain": [
       "                                   Query        Date\n",
       "0                             family guy  2006-03-01\n",
       "1                also sprach zarathustra  2006-03-02\n",
       "2            family guy movie references  2006-03-03\n",
       "3        top grossing movies of all time  2006-03-03\n",
       "4        top grossing movies of all time  2006-03-03\n",
       "...                                  ...         ...\n",
       "3515818                    my space. com  2006-05-31\n",
       "3515819                     my space.com  2006-05-31\n",
       "3515820          my space.com 3131560415  2006-05-31\n",
       "3515821    jennifer craford my space.com  2006-05-31\n",
       "3515822   jennifer crawford my space.com  2006-05-31\n",
       "\n",
       "[3515823 rows x 2 columns]"
      ]
     },
     "execution_count": 11,
     "metadata": {},
     "output_type": "execute_result"
    }
   ],
   "source": [
    "aol_query_data"
   ]
  },
  {
   "cell_type": "code",
   "execution_count": 12,
   "id": "59cc2410-dc2d-4f4c-b293-0e4933b885fd",
   "metadata": {},
   "outputs": [],
   "source": [
    "aol_query_frequency = aol_query_data.groupby(['Date', 'Query']).size().reset_index(name='freq')"
   ]
  },
  {
   "cell_type": "code",
   "execution_count": 13,
   "id": "c087bed3-916e-4d0a-bb49-3d04b0404189",
   "metadata": {
    "tags": []
   },
   "outputs": [],
   "source": [
    "aol_query_frequency = aol_query_frequency.sort_values(by=['Date', \"freq\"], ascending=[True, False]).reset_index(drop=\"True\")"
   ]
  },
  {
   "cell_type": "code",
   "execution_count": 14,
   "id": "44c99793-8301-47a2-8273-ee9197e92eb5",
   "metadata": {},
   "outputs": [],
   "source": [
    "aol_query_frequency[\"Querylen\"] = aol_query_frequency[\"Query\"].str.len()"
   ]
  },
  {
   "cell_type": "code",
   "execution_count": 15,
   "id": "20f7e02f-7785-4241-9b1d-f670cd2d07b8",
   "metadata": {},
   "outputs": [
    {
     "data": {
      "text/html": [
       "<div>\n",
       "<style scoped>\n",
       "    .dataframe tbody tr th:only-of-type {\n",
       "        vertical-align: middle;\n",
       "    }\n",
       "\n",
       "    .dataframe tbody tr th {\n",
       "        vertical-align: top;\n",
       "    }\n",
       "\n",
       "    .dataframe thead th {\n",
       "        text-align: right;\n",
       "    }\n",
       "</style>\n",
       "<table border=\"1\" class=\"dataframe\">\n",
       "  <thead>\n",
       "    <tr style=\"text-align: right;\">\n",
       "      <th></th>\n",
       "      <th>Date</th>\n",
       "      <th>Query</th>\n",
       "      <th>freq</th>\n",
       "      <th>Querylen</th>\n",
       "    </tr>\n",
       "  </thead>\n",
       "  <tbody>\n",
       "    <tr>\n",
       "      <th>0</th>\n",
       "      <td>2006-03-01</td>\n",
       "      <td>google</td>\n",
       "      <td>400</td>\n",
       "      <td>6</td>\n",
       "    </tr>\n",
       "    <tr>\n",
       "      <th>1</th>\n",
       "      <td>2006-03-01</td>\n",
       "      <td>yahoo</td>\n",
       "      <td>197</td>\n",
       "      <td>5</td>\n",
       "    </tr>\n",
       "    <tr>\n",
       "      <th>2</th>\n",
       "      <td>2006-03-01</td>\n",
       "      <td>ebay</td>\n",
       "      <td>163</td>\n",
       "      <td>4</td>\n",
       "    </tr>\n",
       "    <tr>\n",
       "      <th>3</th>\n",
       "      <td>2006-03-01</td>\n",
       "      <td>yahoo.com</td>\n",
       "      <td>127</td>\n",
       "      <td>9</td>\n",
       "    </tr>\n",
       "    <tr>\n",
       "      <th>4</th>\n",
       "      <td>2006-03-01</td>\n",
       "      <td>google.com</td>\n",
       "      <td>120</td>\n",
       "      <td>10</td>\n",
       "    </tr>\n",
       "    <tr>\n",
       "      <th>...</th>\n",
       "      <td>...</td>\n",
       "      <td>...</td>\n",
       "      <td>...</td>\n",
       "      <td>...</td>\n",
       "    </tr>\n",
       "    <tr>\n",
       "      <th>1758999</th>\n",
       "      <td>2006-05-31</td>\n",
       "      <td>zip codes.com</td>\n",
       "      <td>1</td>\n",
       "      <td>13</td>\n",
       "    </tr>\n",
       "    <tr>\n",
       "      <th>1759000</th>\n",
       "      <td>2006-05-31</td>\n",
       "      <td>zipcodes</td>\n",
       "      <td>1</td>\n",
       "      <td>8</td>\n",
       "    </tr>\n",
       "    <tr>\n",
       "      <th>1759001</th>\n",
       "      <td>2006-05-31</td>\n",
       "      <td>zone</td>\n",
       "      <td>1</td>\n",
       "      <td>4</td>\n",
       "    </tr>\n",
       "    <tr>\n",
       "      <th>1759002</th>\n",
       "      <td>2006-05-31</td>\n",
       "      <td>zone.com</td>\n",
       "      <td>1</td>\n",
       "      <td>8</td>\n",
       "    </tr>\n",
       "    <tr>\n",
       "      <th>1759003</th>\n",
       "      <td>2006-05-31</td>\n",
       "      <td>ß ß ß fSf f ß ß p</td>\n",
       "      <td>1</td>\n",
       "      <td>17</td>\n",
       "    </tr>\n",
       "  </tbody>\n",
       "</table>\n",
       "<p>1759004 rows × 4 columns</p>\n",
       "</div>"
      ],
      "text/plain": [
       "               Date              Query  freq  Querylen\n",
       "0        2006-03-01             google   400         6\n",
       "1        2006-03-01              yahoo   197         5\n",
       "2        2006-03-01               ebay   163         4\n",
       "3        2006-03-01          yahoo.com   127         9\n",
       "4        2006-03-01         google.com   120        10\n",
       "...             ...                ...   ...       ...\n",
       "1758999  2006-05-31      zip codes.com     1        13\n",
       "1759000  2006-05-31           zipcodes     1         8\n",
       "1759001  2006-05-31               zone     1         4\n",
       "1759002  2006-05-31           zone.com     1         8\n",
       "1759003  2006-05-31  ß ß ß fSf f ß ß p     1        17\n",
       "\n",
       "[1759004 rows x 4 columns]"
      ]
     },
     "execution_count": 15,
     "metadata": {},
     "output_type": "execute_result"
    }
   ],
   "source": [
    "aol_query_frequency"
   ]
  },
  {
   "cell_type": "code",
   "execution_count": 16,
   "id": "81d7d7e9-79f8-40a6-beae-8f631a4f8e25",
   "metadata": {},
   "outputs": [],
   "source": [
    "characters = ['a', 'b', 'c', 'd', 'e', 'f', 'g', 'h', 'i', 'j', 'k', 'l', 'm','n', 'o', 'p', 'q', 'r', 's', 't', 'u', 'v', 'w', 'x', \n",
    "              'y', 'z','0', '1', '2', '3', '4', '5', '6', '7', '8', '9', ' ', '.', '-', \"'\", '&', ';', 'nv']"
   ]
  },
  {
   "cell_type": "code",
   "execution_count": 17,
   "id": "2ccb6f5d-338f-4f39-9b7f-3f9bd1c36c9d",
   "metadata": {},
   "outputs": [],
   "source": [
    "character_ids = {}\n",
    "i = 1\n",
    "for char in characters:\n",
    "    character_ids[char] = i\n",
    "    i = i + 1"
   ]
  },
  {
   "cell_type": "code",
   "execution_count": 18,
   "id": "5531aa11-6729-4c27-bd96-ae2ab2911942",
   "metadata": {},
   "outputs": [],
   "source": [
    "def get_characters(string):\n",
    "    return list(string)"
   ]
  },
  {
   "cell_type": "code",
   "execution_count": 19,
   "id": "c5fe3ba7-e15f-4c69-b6c1-7a3f2a6f4266",
   "metadata": {},
   "outputs": [],
   "source": [
    "def get_char_id(charlist):\n",
    "    char_ids = []\n",
    "    for char in charlist:\n",
    "        if char in character_ids.keys():\n",
    "            char_ids.append(character_ids[char])\n",
    "        else:\n",
    "            char_ids.append(0)\n",
    "    return char_ids"
   ]
  },
  {
   "cell_type": "code",
   "execution_count": 20,
   "id": "6be46798-dfd8-4205-954f-4e6df95e3789",
   "metadata": {},
   "outputs": [],
   "source": [
    "def pad_list(x):\n",
    "    if len(x) < 60:\n",
    "        return x + [0] * (60 - len(x))\n",
    "    else:\n",
    "        return x[:60]"
   ]
  },
  {
   "cell_type": "code",
   "execution_count": 21,
   "id": "b8d5e30d-36d8-445b-9d39-8a6a94b4556d",
   "metadata": {},
   "outputs": [],
   "source": [
    "def list_to_array(x):\n",
    "    return np.array(x)"
   ]
  },
  {
   "cell_type": "code",
   "execution_count": 22,
   "id": "09d1b4ed-35f6-4c4a-a227-ef00e7951f5d",
   "metadata": {},
   "outputs": [],
   "source": [
    "aol_query_frequency[\"Querychar\"] = aol_query_frequency[\"Query\"].apply(get_characters)"
   ]
  },
  {
   "cell_type": "code",
   "execution_count": 23,
   "id": "36073430-67b3-41c8-82bd-3be87c6686ad",
   "metadata": {},
   "outputs": [],
   "source": [
    "aol_query_frequency[\"charIDs\"] = aol_query_frequency[\"Querychar\"].apply(get_char_id)"
   ]
  },
  {
   "cell_type": "code",
   "execution_count": 24,
   "id": "d785c518-49f2-4918-b5fc-455853be0628",
   "metadata": {},
   "outputs": [],
   "source": [
    "aol_query_frequency[\"charIDs\"] = aol_query_frequency[\"charIDs\"].apply(pad_list)"
   ]
  },
  {
   "cell_type": "code",
   "execution_count": 25,
   "id": "ab7eb23d-c17b-42af-81e5-93ec25dc40a3",
   "metadata": {},
   "outputs": [],
   "source": [
    "dateRange = (aol_query_frequency['Date'] >= '2006-03-01') & (aol_query_frequency['Date'] <= '2006-03-08')"
   ]
  },
  {
   "cell_type": "code",
   "execution_count": 27,
   "id": "baf2d54b-b96d-4bce-b707-d131b4ea9eda",
   "metadata": {},
   "outputs": [],
   "source": [
    "dateReq = (aol_query_frequency['Date'] == '2006-03-09')"
   ]
  },
  {
   "cell_type": "code",
   "execution_count": 28,
   "id": "ff9352cd-bcd3-49bc-bbae-7d19c42a4c5f",
   "metadata": {},
   "outputs": [],
   "source": [
    "dateTest = (aol_query_frequency['Date'] >= '2006-03-16') & (aol_query_frequency['Date'] <= '2006-03-21')"
   ]
  },
  {
   "cell_type": "code",
   "execution_count": 29,
   "id": "0af07fac-83aa-4488-bde5-4f0a3c3b7d3f",
   "metadata": {},
   "outputs": [],
   "source": [
    "aol_frequency_train = aol_query_frequency.loc[dateRange]"
   ]
  },
  {
   "cell_type": "code",
   "execution_count": 30,
   "id": "88a12c47-0e76-4068-b00d-cece65671206",
   "metadata": {},
   "outputs": [],
   "source": [
    "aol_freq_train = aol_query_frequency.loc[dateRange2]"
   ]
  },
  {
   "cell_type": "code",
   "execution_count": 31,
   "id": "9b5283be-8f70-48c2-8a8d-7171fbcf9eb2",
   "metadata": {},
   "outputs": [],
   "source": [
    "aol_frequency_validate = aol_query_frequency.loc[dateReq]"
   ]
  },
  {
   "cell_type": "code",
   "execution_count": 32,
   "id": "9c28b0b3-5573-419e-919e-d167548969dd",
   "metadata": {},
   "outputs": [],
   "source": [
    "aol_frequency_test = aol_query_frequency.loc[dateTest]"
   ]
  },
  {
   "cell_type": "code",
   "execution_count": 33,
   "id": "d8897f24-3c1f-4455-a583-01f686d70a71",
   "metadata": {},
   "outputs": [],
   "source": [
    "aol_frequency_test.reset_index(drop=True, inplace=True)"
   ]
  },
  {
   "cell_type": "code",
   "execution_count": 34,
   "id": "903cf4dd-3f6d-4044-9482-2947915e523e",
   "metadata": {},
   "outputs": [],
   "source": [
    "def get_data_aol_feat(data):\n",
    "    query_char_ids = np.stack(data['charIDs'].apply(list_to_array))\n",
    "    counts  = data['freq']\n",
    "    x = query_char_ids\n",
    "    y = np.array(counts)\n",
    "    assert len(x) == len(y)\n",
    "    return x, y"
   ]
  },
  {
   "cell_type": "code",
   "execution_count": 37,
   "id": "7b0aacf2-60f3-4be0-95df-e598d72a94c2",
   "metadata": {},
   "outputs": [],
   "source": [
    "x_train, y_train = get_data_aol_feat(aol_frequency_train)"
   ]
  },
  {
   "cell_type": "code",
   "execution_count": 38,
   "id": "dccc0970-e66e-4c39-844b-bdef5c447c00",
   "metadata": {},
   "outputs": [
    {
     "data": {
      "text/plain": [
       "183713"
      ]
     },
     "execution_count": 38,
     "metadata": {},
     "output_type": "execute_result"
    }
   ],
   "source": [
    "len(y_train)"
   ]
  },
  {
   "cell_type": "code",
   "execution_count": 39,
   "id": "5b82ecd2-ac30-4bf9-918b-7b79d56216b8",
   "metadata": {},
   "outputs": [],
   "source": [
    "x_val, y_val = get_data_aol_feat(aol_frequency_validate)"
   ]
  },
  {
   "cell_type": "code",
   "execution_count": 207,
   "id": "e4985f45-c3c2-48d5-bfbf-8ef06753153f",
   "metadata": {},
   "outputs": [
    {
     "data": {
      "text/plain": [
       "22652"
      ]
     },
     "execution_count": 207,
     "metadata": {},
     "output_type": "execute_result"
    }
   ],
   "source": [
    "len(y_val)"
   ]
  },
  {
   "cell_type": "code",
   "execution_count": 40,
   "id": "1803aacf-4d83-4103-930d-923a58a0f24e",
   "metadata": {},
   "outputs": [],
   "source": [
    "x_test, y_test = get_data_aol_feat(aol_frequency_test)"
   ]
  },
  {
   "cell_type": "code",
   "execution_count": 41,
   "id": "a87c7d37-4913-441f-9317-d6fb5fbaefd7",
   "metadata": {},
   "outputs": [],
   "source": [
    "y_train = np.log(y_train)"
   ]
  },
  {
   "cell_type": "code",
   "execution_count": 208,
   "id": "5945d4d6-df18-49bc-8d6d-4622e1e334fa",
   "metadata": {},
   "outputs": [
    {
     "data": {
      "text/plain": [
       "135360"
      ]
     },
     "execution_count": 208,
     "metadata": {},
     "output_type": "execute_result"
    }
   ],
   "source": [
    "len(y_test)"
   ]
  },
  {
   "cell_type": "code",
   "execution_count": 42,
   "id": "5b9b1618-677f-441f-85d3-ce7ebb530189",
   "metadata": {},
   "outputs": [],
   "source": [
    "y_val = np.log(y_val)"
   ]
  },
  {
   "cell_type": "code",
   "execution_count": 43,
   "id": "4eae317d-73b9-4547-ae6a-a0e4a311a260",
   "metadata": {},
   "outputs": [],
   "source": [
    "inputs = Input(name='inputs', shape=(60,))\n",
    "layer = Embedding(input_dim=44, output_dim=64)(inputs)\n",
    "layer = SimpleRNN(256, return_sequences=True)(layer)\n",
    "layer = LSTM(256)(layer)\n",
    "layer = Dense(32, activation='LeakyReLU')(layer)\n",
    "layer = Dense(1, name='out_layer')(layer)\n",
    "layer = Activation('relu')(layer)\n",
    "\n",
    "model = Model(inputs=inputs, outputs=layer)\n",
    "model.compile(optimizer=Adam(learning_rate=0.0001), loss=MeanSquaredError())"
   ]
  },
  {
   "cell_type": "code",
   "execution_count": 44,
   "id": "2e1dbe23-44d3-45f7-b598-421ae01f64bd",
   "metadata": {},
   "outputs": [
    {
     "name": "stdout",
     "output_type": "stream",
     "text": [
      "Model: \"model\"\n",
      "_________________________________________________________________\n",
      " Layer (type)                Output Shape              Param #   \n",
      "=================================================================\n",
      " inputs (InputLayer)         [(None, 60)]              0         \n",
      "                                                                 \n",
      " embedding (Embedding)       (None, 60, 64)            2816      \n",
      "                                                                 \n",
      " simple_rnn (SimpleRNN)      (None, 60, 256)           82176     \n",
      "                                                                 \n",
      " lstm (LSTM)                 (None, 256)               525312    \n",
      "                                                                 \n",
      " dense (Dense)               (None, 32)                8224      \n",
      "                                                                 \n",
      " out_layer (Dense)           (None, 1)                 33        \n",
      "                                                                 \n",
      " activation (Activation)     (None, 1)                 0         \n",
      "                                                                 \n",
      "=================================================================\n",
      "Total params: 618,561\n",
      "Trainable params: 618,561\n",
      "Non-trainable params: 0\n",
      "_________________________________________________________________\n"
     ]
    }
   ],
   "source": [
    "model.summary()"
   ]
  },
  {
   "cell_type": "code",
   "execution_count": 45,
   "id": "5d97ed7b-eb78-46c8-afd2-f9ce5f72c61a",
   "metadata": {},
   "outputs": [
    {
     "name": "stdout",
     "output_type": "stream",
     "text": [
      "Epoch 1/30\n",
      "1436/1436 [==============================] - 65s 43ms/step - loss: 0.3867 - val_loss: 0.3783\n",
      "Epoch 2/30\n",
      "1436/1436 [==============================] - 61s 43ms/step - loss: 0.3843 - val_loss: 0.3776\n",
      "Epoch 3/30\n",
      "1436/1436 [==============================] - 60s 42ms/step - loss: 0.3839 - val_loss: 0.3791\n",
      "Epoch 4/30\n",
      "1436/1436 [==============================] - 60s 42ms/step - loss: 0.3836 - val_loss: 0.3772\n",
      "Epoch 5/30\n",
      "1436/1436 [==============================] - 62s 43ms/step - loss: 0.3830 - val_loss: 0.3772\n",
      "Epoch 6/30\n",
      "1436/1436 [==============================] - 63s 44ms/step - loss: 0.3829 - val_loss: 0.3788\n",
      "Epoch 7/30\n",
      "1436/1436 [==============================] - 60s 42ms/step - loss: 0.3824 - val_loss: 0.3764\n",
      "Epoch 8/30\n",
      "1436/1436 [==============================] - 59s 41ms/step - loss: 0.3818 - val_loss: 0.3774\n",
      "Epoch 9/30\n",
      "1436/1436 [==============================] - 74s 52ms/step - loss: 0.3814 - val_loss: 0.3771\n",
      "Epoch 10/30\n",
      "1436/1436 [==============================] - 62s 43ms/step - loss: 0.3805 - val_loss: 0.3783\n",
      "Epoch 11/30\n",
      "1436/1436 [==============================] - 59s 41ms/step - loss: 0.3800 - val_loss: 0.3756\n",
      "Epoch 12/30\n",
      "1436/1436 [==============================] - 61s 42ms/step - loss: 0.3786 - val_loss: 0.3781\n",
      "Epoch 13/30\n",
      "1436/1436 [==============================] - 61s 42ms/step - loss: 0.3787 - val_loss: 0.3745\n",
      "Epoch 14/30\n",
      "1436/1436 [==============================] - 61s 43ms/step - loss: 0.3765 - val_loss: 0.3731\n",
      "Epoch 15/30\n",
      "1436/1436 [==============================] - 60s 42ms/step - loss: 0.3746 - val_loss: 0.3691\n",
      "Epoch 16/30\n",
      "1436/1436 [==============================] - 63s 44ms/step - loss: 0.3747 - val_loss: 0.3674\n",
      "Epoch 17/30\n",
      "1436/1436 [==============================] - 62s 43ms/step - loss: 0.3714 - val_loss: 0.3719\n",
      "Epoch 18/30\n",
      "1436/1436 [==============================] - 61s 43ms/step - loss: 0.3702 - val_loss: 0.3664\n",
      "Epoch 19/30\n",
      "1436/1436 [==============================] - 59s 41ms/step - loss: 0.3674 - val_loss: 0.3649\n",
      "Epoch 20/30\n",
      "1436/1436 [==============================] - 64s 44ms/step - loss: 0.3682 - val_loss: 0.3671\n",
      "Epoch 21/30\n",
      "1436/1436 [==============================] - 62s 43ms/step - loss: 0.3651 - val_loss: 0.3619\n",
      "Epoch 22/30\n",
      "1436/1436 [==============================] - 61s 42ms/step - loss: 0.3644 - val_loss: 0.3630\n",
      "Epoch 23/30\n",
      "1436/1436 [==============================] - 60s 42ms/step - loss: 0.3640 - val_loss: 0.3640\n",
      "Epoch 24/30\n",
      "1436/1436 [==============================] - 63s 44ms/step - loss: 0.3620 - val_loss: 0.3648\n",
      "Epoch 25/30\n",
      "1436/1436 [==============================] - 61s 42ms/step - loss: 0.3609 - val_loss: 0.3586\n",
      "Epoch 26/30\n",
      "1436/1436 [==============================] - 62s 43ms/step - loss: 0.3595 - val_loss: 0.3583\n",
      "Epoch 27/30\n",
      "1436/1436 [==============================] - 61s 42ms/step - loss: 0.3580 - val_loss: 0.3565\n",
      "Epoch 28/30\n",
      "1436/1436 [==============================] - 61s 43ms/step - loss: 0.3560 - val_loss: 0.3600\n",
      "Epoch 29/30\n",
      "1436/1436 [==============================] - 61s 43ms/step - loss: 0.3556 - val_loss: 0.3558\n",
      "Epoch 30/30\n",
      "1436/1436 [==============================] - 62s 43ms/step - loss: 0.3535 - val_loss: 0.3610\n"
     ]
    }
   ],
   "source": [
    "Aol_model = model.fit(x_train, y_train, epochs=30, batch_size=128, validation_data=(x_val, y_val), verbose=1)"
   ]
  },
  {
   "cell_type": "code",
   "execution_count": 46,
   "id": "cd2f0911-fb18-46d3-b703-0e216434d5e7",
   "metadata": {},
   "outputs": [],
   "source": [
    "model.save_weights('model_weights.h5')"
   ]
  },
  {
   "cell_type": "code",
   "execution_count": 47,
   "id": "465627a5-f608-43ac-8f81-0b18bde1bede",
   "metadata": {},
   "outputs": [],
   "source": [
    "new_inputs = Input(name='inputs', shape=(60,))\n",
    "new_layer = Embedding(input_dim=44, output_dim=64)(new_inputs)\n",
    "new_layer = LSTM(256, return_sequences=True)(new_layer)\n",
    "new_layer = LSTM(256 , return_sequences=True)(new_layer)\n",
    "new_layer = LSTM(256)(new_layer)\n",
    "new_layer = Dense(32, activation='relu')(new_layer)\n",
    "new_layer = Dense(1, name='out_layer')(new_layer)\n",
    "new_layer = Activation('relu')(new_layer)\n",
    "\n",
    "new_model = Model(inputs=new_inputs, outputs=new_layer)\n",
    "new_model.compile(optimizer=Adam(learning_rate=0.0001), loss=MeanSquaredError())"
   ]
  },
  {
   "cell_type": "code",
   "execution_count": 48,
   "id": "d5e11426-3443-46aa-9f12-433aad3e2901",
   "metadata": {},
   "outputs": [
    {
     "name": "stdout",
     "output_type": "stream",
     "text": [
      "Model: \"model_1\"\n",
      "_________________________________________________________________\n",
      " Layer (type)                Output Shape              Param #   \n",
      "=================================================================\n",
      " inputs (InputLayer)         [(None, 60)]              0         \n",
      "                                                                 \n",
      " embedding_1 (Embedding)     (None, 60, 64)            2816      \n",
      "                                                                 \n",
      " lstm_1 (LSTM)               (None, 60, 256)           328704    \n",
      "                                                                 \n",
      " lstm_2 (LSTM)               (None, 60, 256)           525312    \n",
      "                                                                 \n",
      " lstm_3 (LSTM)               (None, 256)               525312    \n",
      "                                                                 \n",
      " dense_1 (Dense)             (None, 32)                8224      \n",
      "                                                                 \n",
      " out_layer (Dense)           (None, 1)                 33        \n",
      "                                                                 \n",
      " activation_1 (Activation)   (None, 1)                 0         \n",
      "                                                                 \n",
      "=================================================================\n",
      "Total params: 1,390,401\n",
      "Trainable params: 1,390,401\n",
      "Non-trainable params: 0\n",
      "_________________________________________________________________\n"
     ]
    }
   ],
   "source": [
    "new_model.summary()"
   ]
  },
  {
   "cell_type": "code",
   "execution_count": 49,
   "id": "f6a617e1-9139-4a3e-8df6-0f790daf917f",
   "metadata": {},
   "outputs": [
    {
     "name": "stdout",
     "output_type": "stream",
     "text": [
      "Epoch 1/40\n",
      "1436/1436 [==============================] - 26s 17ms/step - loss: 0.3895 - val_loss: 0.3788\n",
      "Epoch 2/40\n",
      "1436/1436 [==============================] - 24s 17ms/step - loss: 0.3849 - val_loss: 0.3783\n",
      "Epoch 3/40\n",
      "1436/1436 [==============================] - 24s 17ms/step - loss: 0.3843 - val_loss: 0.3776\n",
      "Epoch 4/40\n",
      "1436/1436 [==============================] - 24s 17ms/step - loss: 0.3843 - val_loss: 0.3795\n",
      "Epoch 5/40\n",
      "1436/1436 [==============================] - 24s 17ms/step - loss: 0.3838 - val_loss: 0.3786\n",
      "Epoch 6/40\n",
      "1436/1436 [==============================] - 24s 17ms/step - loss: 0.3836 - val_loss: 0.3774\n",
      "Epoch 7/40\n",
      "1436/1436 [==============================] - 24s 17ms/step - loss: 0.3834 - val_loss: 0.3777\n",
      "Epoch 8/40\n",
      "1436/1436 [==============================] - 24s 17ms/step - loss: 0.3846 - val_loss: 0.3792\n",
      "Epoch 9/40\n",
      "1436/1436 [==============================] - 24s 17ms/step - loss: 0.3840 - val_loss: 0.3788\n",
      "Epoch 10/40\n",
      "1436/1436 [==============================] - 24s 17ms/step - loss: 0.3839 - val_loss: 0.3778\n",
      "Epoch 11/40\n",
      "1436/1436 [==============================] - 24s 16ms/step - loss: 0.3836 - val_loss: 0.3772\n",
      "Epoch 12/40\n",
      "1436/1436 [==============================] - 24s 17ms/step - loss: 0.3836 - val_loss: 0.3792\n",
      "Epoch 13/40\n",
      "1436/1436 [==============================] - 24s 17ms/step - loss: 0.3833 - val_loss: 0.3775\n",
      "Epoch 14/40\n",
      "1436/1436 [==============================] - 24s 17ms/step - loss: 0.3833 - val_loss: 0.3774\n",
      "Epoch 15/40\n",
      "1436/1436 [==============================] - 24s 17ms/step - loss: 0.3833 - val_loss: 0.3778\n",
      "Epoch 16/40\n",
      "1436/1436 [==============================] - 24s 17ms/step - loss: 0.3832 - val_loss: 0.3771\n",
      "Epoch 17/40\n",
      "1436/1436 [==============================] - 24s 17ms/step - loss: 0.3831 - val_loss: 0.3771\n",
      "Epoch 18/40\n",
      "1436/1436 [==============================] - 24s 17ms/step - loss: 0.3829 - val_loss: 0.3779\n",
      "Epoch 19/40\n",
      "1436/1436 [==============================] - 24s 17ms/step - loss: 0.3828 - val_loss: 0.3770\n",
      "Epoch 20/40\n",
      "1436/1436 [==============================] - 24s 16ms/step - loss: 0.3827 - val_loss: 0.3772\n",
      "Epoch 21/40\n",
      "1436/1436 [==============================] - 24s 16ms/step - loss: 0.3826 - val_loss: 0.3768\n",
      "Epoch 22/40\n",
      "1436/1436 [==============================] - 24s 17ms/step - loss: 0.3824 - val_loss: 0.3783\n",
      "Epoch 23/40\n",
      "1436/1436 [==============================] - 24s 17ms/step - loss: 0.3824 - val_loss: 0.3769\n",
      "Epoch 24/40\n",
      "1436/1436 [==============================] - 24s 17ms/step - loss: 0.3822 - val_loss: 0.3767\n",
      "Epoch 25/40\n",
      "1436/1436 [==============================] - 24s 17ms/step - loss: 0.3821 - val_loss: 0.3765\n",
      "Epoch 26/40\n",
      "1436/1436 [==============================] - 24s 17ms/step - loss: 0.3820 - val_loss: 0.3763\n",
      "Epoch 27/40\n",
      "1436/1436 [==============================] - 24s 17ms/step - loss: 0.3820 - val_loss: 0.3765\n",
      "Epoch 28/40\n",
      "1436/1436 [==============================] - 24s 17ms/step - loss: 0.3818 - val_loss: 0.3768\n",
      "Epoch 29/40\n",
      "1436/1436 [==============================] - 24s 17ms/step - loss: 0.3817 - val_loss: 0.3780\n",
      "Epoch 30/40\n",
      "1436/1436 [==============================] - 24s 16ms/step - loss: 0.3816 - val_loss: 0.3766\n",
      "Epoch 31/40\n",
      "1436/1436 [==============================] - 24s 16ms/step - loss: 0.3815 - val_loss: 0.3770\n",
      "Epoch 32/40\n",
      "1436/1436 [==============================] - 24s 17ms/step - loss: 0.3815 - val_loss: 0.3773\n",
      "Epoch 33/40\n",
      "1436/1436 [==============================] - 24s 17ms/step - loss: 0.3814 - val_loss: 0.3757\n",
      "Epoch 34/40\n",
      "1436/1436 [==============================] - 24s 17ms/step - loss: 0.3812 - val_loss: 0.3759\n",
      "Epoch 35/40\n",
      "1436/1436 [==============================] - 24s 17ms/step - loss: 0.3811 - val_loss: 0.3771\n",
      "Epoch 36/40\n",
      "1436/1436 [==============================] - 24s 17ms/step - loss: 0.3808 - val_loss: 0.3761\n",
      "Epoch 37/40\n",
      "1436/1436 [==============================] - 24s 17ms/step - loss: 0.3808 - val_loss: 0.3756\n",
      "Epoch 38/40\n",
      "1436/1436 [==============================] - 24s 17ms/step - loss: 0.3805 - val_loss: 0.3755\n",
      "Epoch 39/40\n",
      "1436/1436 [==============================] - 24s 17ms/step - loss: 0.3803 - val_loss: 0.3753\n",
      "Epoch 40/40\n",
      "1436/1436 [==============================] - 24s 17ms/step - loss: 0.3802 - val_loss: 0.3751\n"
     ]
    }
   ],
   "source": [
    "new_Aol_model = new_model.fit(x_train, y_train, epochs=40, batch_size=128, validation_data=(x_val, y_val), verbose=1)"
   ]
  },
  {
   "cell_type": "code",
   "execution_count": 50,
   "id": "12fc4454-5705-4795-affb-4e10e1099cfe",
   "metadata": {},
   "outputs": [],
   "source": [
    "new_model.save_weights('new_model_weights.h5')"
   ]
  },
  {
   "cell_type": "code",
   "execution_count": 51,
   "id": "b9854dea-c8a8-4931-b12c-9356cf4d514d",
   "metadata": {},
   "outputs": [],
   "source": [
    "model.load_weights('model_weights.h5')"
   ]
  },
  {
   "cell_type": "code",
   "execution_count": 52,
   "id": "a2dca6f7-3317-4c7b-97cc-a3644594655c",
   "metadata": {},
   "outputs": [],
   "source": [
    "new_model.load_weights('new_model_weights.h5')"
   ]
  },
  {
   "cell_type": "code",
   "execution_count": 53,
   "id": "2bc2995c-628e-4609-a412-0a20500a6451",
   "metadata": {},
   "outputs": [
    {
     "name": "stdout",
     "output_type": "stream",
     "text": [
      "4230/4230 [==============================] - 36s 8ms/step\n"
     ]
    }
   ],
   "source": [
    "out = model.predict(x_test)"
   ]
  },
  {
   "cell_type": "code",
   "execution_count": 54,
   "id": "88fb67c7-d3bb-4610-b669-22639e0769c8",
   "metadata": {},
   "outputs": [
    {
     "name": "stdout",
     "output_type": "stream",
     "text": [
      "4230/4230 [==============================] - 27s 6ms/step\n"
     ]
    }
   ],
   "source": [
    "new_out = new_model.predict(x_test)"
   ]
  },
  {
   "cell_type": "code",
   "execution_count": 55,
   "id": "c6b6a161-861a-4ad7-9c3b-78642a1b37fa",
   "metadata": {},
   "outputs": [],
   "source": [
    "out = np.exp(out)"
   ]
  },
  {
   "cell_type": "code",
   "execution_count": 56,
   "id": "1e685eca-23eb-449c-8ea2-8b09df1c6a14",
   "metadata": {},
   "outputs": [],
   "source": [
    "new_out = np.exp(new_out)"
   ]
  },
  {
   "cell_type": "code",
   "execution_count": 57,
   "id": "234c8398-24af-42f4-9d9f-1e21390bcb0a",
   "metadata": {},
   "outputs": [
    {
     "data": {
      "text/plain": [
       "135360"
      ]
     },
     "execution_count": 57,
     "metadata": {},
     "output_type": "execute_result"
    }
   ],
   "source": [
    "len(new_out)"
   ]
  },
  {
   "cell_type": "code",
   "execution_count": 59,
   "id": "9c7aeada-34b8-4db7-833c-4e3f7ed9a1d9",
   "metadata": {},
   "outputs": [],
   "source": [
    "class Node:\n",
    "    def __init__(self, key=None, priority=None):\n",
    "        self.key = key\n",
    "        self.priority = priority\n",
    "        self.left = None\n",
    "        self.right = None\n",
    "\n",
    "class Treap:\n",
    "    def __init__(self):\n",
    "        self.root = None\n",
    "        self.comparisons = 0\n",
    "        self.comparisons_insert = 0\n",
    "        self.comparisons_search = 0\n",
    "        self.comparisons_delete = 0\n",
    "\n",
    "    def insert(self, key, priority):\n",
    "        self.comparisons_insert = 0\n",
    "        self.root, success = self._insert(self.root, key, priority)\n",
    "        return success\n",
    "\n",
    "    def _insert(self, node, key, priority):\n",
    "        self.comparisons_insert += 1\n",
    "        if node is None:\n",
    "            return Node(key, priority), True\n",
    "\n",
    "        if key == node.key:\n",
    "            return node, False\n",
    "\n",
    "        if key < node.key:\n",
    "            node.left, success = self._insert(node.left, key, priority)\n",
    "            if priority > node.priority:\n",
    "                node = self._rotate_right(node)\n",
    "            return node, success\n",
    "\n",
    "        node.right, success = self._insert(node.right, key, priority)\n",
    "        if priority > node.priority:\n",
    "            node = self._rotate_left(node)\n",
    "        return node, success\n",
    "\n",
    "    def search(self, key):\n",
    "        self.comparisons_search = 0\n",
    "        node = self.root\n",
    "        while node is not None:\n",
    "            self.comparisons_search += 1\n",
    "            if key == node.key:\n",
    "                return node\n",
    "            elif key < node.key:\n",
    "                node = node.left\n",
    "            else:\n",
    "                node = node.right\n",
    "        return None\n",
    "\n",
    "    def delete(self, key):\n",
    "        self.comparisons_delete = 0\n",
    "        self.root, success = self._delete(self.root, key)\n",
    "        return success\n",
    "\n",
    "    def _delete(self, node, key):\n",
    "        self.comparisons_delete += 1\n",
    "        if node is None:\n",
    "            return None, False\n",
    "\n",
    "        if key == node.key:\n",
    "            if node.left is None and node.right is None:\n",
    "                return None, True\n",
    "            elif node.left is None:\n",
    "                return node.right, True\n",
    "            elif node.right is None:\n",
    "                return node.left, True\n",
    "            elif node.left.priority > node.right.priority:\n",
    "                node = self._rotate_right(node)\n",
    "                node.right, success = self._delete(node.right, key)\n",
    "            else:\n",
    "                node = self._rotate_left(node)\n",
    "                node.left, success = self._delete(node.left, key)\n",
    "            return node, True\n",
    "\n",
    "        if key < node.key:\n",
    "            node.left, success = self._delete(node.left, key)\n",
    "        else:\n",
    "            node.right, success = self._delete(node.right, key)\n",
    "        return node, success\n",
    "\n",
    "    def successor(self, key):\n",
    "        node = self.root\n",
    "        succ = None\n",
    "        while node is not None:\n",
    "            self.comparisons += 1\n",
    "            if node.key > key:\n",
    "                succ = node\n",
    "                node = node.left\n",
    "            else:\n",
    "                node = node.right\n",
    "        return succ\n",
    "\n",
    "    def _rotate_right(self, node):\n",
    "        left_child = node.left\n",
    "        node.left = left_child.right\n",
    "        left_child.right = node\n",
    "        return left_child\n",
    "\n",
    "    def _rotate_left(self, node):\n",
    "        right_child = node.right\n",
    "        node.right = right_child.left\n",
    "        right_child.left = node\n",
    "        return right_child"
   ]
  },
  {
   "cell_type": "code",
   "execution_count": 60,
   "id": "cd6494b6-f1a0-40c9-83cc-e12e74bff81a",
   "metadata": {},
   "outputs": [],
   "source": [
    "old_model_treap1 = Treap()\n",
    "old_model_treap2 = Treap()\n",
    "old_model_treap3 = Treap()\n",
    "old_model_treap4 = Treap()\n",
    "old_model_treap5 = Treap()\n",
    "old_model_treap6 = Treap()\n",
    "old_model_treap7 = Treap()\n",
    "old_model_treap8 = Treap()\n",
    "old_model_treap9 = Treap()\n",
    "old_model_treap10 = Treap()"
   ]
  },
  {
   "cell_type": "code",
   "execution_count": 80,
   "id": "c1c42aa8-0a47-4e3b-aa1f-0aca9683a869",
   "metadata": {},
   "outputs": [],
   "source": [
    "new_model_treap1 = Treap()\n",
    "new_model_treap2 = Treap()\n",
    "new_model_treap3 = Treap()\n",
    "new_model_treap4 = Treap()\n",
    "new_model_treap5 = Treap()\n",
    "new_model_treap6 = Treap()\n",
    "new_model_treap7 = Treap()\n",
    "new_model_treap8 = Treap()\n",
    "new_model_treap9 = Treap()\n",
    "new_model_treap10 = Treap()"
   ]
  },
  {
   "cell_type": "code",
   "execution_count": 62,
   "id": "ff3aa07f-18a0-45d5-81f2-ff32b387414e",
   "metadata": {},
   "outputs": [],
   "source": [
    "search_list1 = aol_frequency_test.sort_values(by=\"freq\" , ascending=False)[:5000].index.to_list()\n",
    "search_list2 = aol_frequency_test.sort_values(by=\"freq\" , ascending=False)[:10000].index.to_list()\n",
    "search_list3 = aol_frequency_test.sort_values(by=\"freq\" , ascending=False)[:15000].index.to_list()\n",
    "search_list4 = aol_frequency_test.sort_values(by=\"freq\" , ascending=False)[:20000].index.to_list()\n",
    "search_list5 = aol_frequency_test.sort_values(by=\"freq\" , ascending=False)[:25000].index.to_list()\n",
    "search_list6 = aol_frequency_test.sort_values(by=\"freq\" , ascending=False)[:30000].index.to_list()\n",
    "search_list7 = aol_frequency_test.sort_values(by=\"freq\" , ascending=False)[:35000].index.to_list()\n",
    "search_list8 = aol_frequency_test.sort_values(by=\"freq\" , ascending=False)[:40000].index.to_list()\n",
    "search_list9 = aol_frequency_test.sort_values(by=\"freq\" , ascending=False)[:45000].index.to_list()\n",
    "search_list10 = aol_frequency_test.sort_values(by=\"freq\" , ascending=False)[:50000].index.to_list()"
   ]
  },
  {
   "cell_type": "code",
   "execution_count": 63,
   "id": "ef28e7bd-e791-4078-bd0e-61f849cdea66",
   "metadata": {},
   "outputs": [],
   "source": [
    "index1 = 5000\n",
    "index2 = 10000\n",
    "index3 = 15000\n",
    "index4 = 20000\n",
    "index5 = 25000\n",
    "index6 = 30000\n",
    "index7 = 35000\n",
    "index8 = 40000\n",
    "index9 = 45000\n",
    "index10 = 50000"
   ]
  },
  {
   "cell_type": "code",
   "execution_count": 64,
   "id": "b526b7ad-09b6-46a6-9b2e-7f8c52ca9612",
   "metadata": {},
   "outputs": [],
   "source": [
    "ins_index1 = 10000\n",
    "ins_index2 = 20000\n",
    "ins_index3 = 30000\n",
    "ins_index4 = 40000\n",
    "ins_index5 = 50000\n",
    "ins_index6 = 60000\n",
    "ins_index7 = 70000\n",
    "ins_index8 = 80000\n",
    "ins_index9 = 90000\n",
    "ins_index10 = 100000"
   ]
  },
  {
   "cell_type": "code",
   "execution_count": 65,
   "id": "56e724de-10f2-4ba6-b677-eed95733128e",
   "metadata": {},
   "outputs": [],
   "source": [
    "old_treap_comp1 = 0\n",
    "old_treap_comp2 = 0\n",
    "old_treap_comp3 = 0\n",
    "old_treap_comp4 = 0\n",
    "old_treap_comp5 = 0\n",
    "old_treap_comp6 = 0\n",
    "old_treap_comp7 = 0\n",
    "old_treap_comp8 = 0\n",
    "old_treap_comp9 = 0\n",
    "old_treap_comp10 = 0"
   ]
  },
  {
   "cell_type": "code",
   "execution_count": 66,
   "id": "d5451aeb-aabb-4824-828b-f02daff98e54",
   "metadata": {},
   "outputs": [],
   "source": [
    "old_treap_table = []\n",
    "for i in range(1, ins_index1):\n",
    "    old_model_treap1.insert(i, out[i])\n",
    "    old_treap_comp1 += old_model_treap1.comparisons_insert\n",
    "old_treap_table.append([ins_index1, old_treap_comp1])\n",
    "for i in range(1, ins_index2):\n",
    "    old_model_treap2.insert(i, out[i])\n",
    "    old_treap_comp2 += old_model_treap2.comparisons_insert\n",
    "old_treap_table.append([ins_index2, old_treap_comp2])\n",
    "for i in range(1, ins_index3):\n",
    "    old_model_treap3.insert(i, out[i])\n",
    "    old_treap_comp3 += old_model_treap3.comparisons_insert\n",
    "old_treap_table.append([ins_index3, old_treap_comp3])\n",
    "for i in range(1, ins_index4):\n",
    "    old_model_treap4.insert(i, out[i])\n",
    "    old_treap_comp4 += old_model_treap4.comparisons_insert\n",
    "old_treap_table.append([ins_index4, old_treap_comp4])\n",
    "for i in range(1, ins_index5):\n",
    "    old_model_treap5.insert(i, out[i])\n",
    "    old_treap_comp5 += old_model_treap5.comparisons_insert\n",
    "old_treap_table.append([ins_index5, old_treap_comp5])\n",
    "for i in range(1, ins_index6):\n",
    "    old_model_treap6.insert(i, out[i])\n",
    "    old_treap_comp6 += old_model_treap6.comparisons_insert\n",
    "old_treap_table.append([ins_index6, old_treap_comp6])\n",
    "for i in range(1, ins_index7):\n",
    "    old_model_treap7.insert(i, out[i])\n",
    "    old_treap_comp7 += old_model_treap7.comparisons_insert\n",
    "old_treap_table.append([ins_index7, old_treap_comp7])\n",
    "for i in range(1, ins_index8):\n",
    "    old_model_treap8.insert(i, out[i])\n",
    "    old_treap_comp8 += old_model_treap8.comparisons_insert\n",
    "old_treap_table.append([ins_index8, old_treap_comp8])\n",
    "for i in range(1, ins_index9):\n",
    "    old_model_treap9.insert(i, out[i])\n",
    "    old_treap_comp9 += old_model_treap9.comparisons_insert\n",
    "old_treap_table.append([ins_index9, old_treap_comp9])\n",
    "for i in range(1, ins_index10):\n",
    "    old_model_treap10.insert(i, out[i])\n",
    "    old_treap_comp10 += old_model_treap10.comparisons_insert\n",
    "old_treap_table.append([ins_index10, old_treap_comp10])"
   ]
  },
  {
   "cell_type": "code",
   "execution_count": 95,
   "id": "80a4eae5-9112-4bcc-a08d-95af9a0e9d42",
   "metadata": {},
   "outputs": [],
   "source": [
    "old_treap_search1 = 0\n",
    "old_treap_search2 = 0\n",
    "old_treap_search3 = 0\n",
    "old_treap_search4 = 0\n",
    "old_treap_search5 = 0\n",
    "old_treap_search6 = 0\n",
    "old_treap_search7 = 0\n",
    "old_treap_search8 = 0\n",
    "old_treap_search9 = 0\n",
    "old_treap_search10 = 0"
   ]
  },
  {
   "cell_type": "code",
   "execution_count": 96,
   "id": "38c3f666-283b-45fd-aa33-c73d92c55c16",
   "metadata": {},
   "outputs": [],
   "source": [
    "old_model_search_table = []\n",
    "for element in search_list1:\n",
    "    old_model_treap1.search(element)\n",
    "    old_treap_search1 += old_model_treap1.comparisons_search\n",
    "old_model_search_table.append([len(search_list1), old_treap_search1])\n",
    "for element in search_list2:\n",
    "    old_model_treap2.search(element)\n",
    "    old_treap_search2 += old_model_treap2.comparisons_search\n",
    "old_model_search_table.append([len(search_list2), old_treap_search2])\n",
    "for element in search_list3:\n",
    "    old_model_treap3.search(element)\n",
    "    old_treap_search3 += old_model_treap3.comparisons_search\n",
    "old_model_search_table.append([len(search_list3), old_treap_search3])\n",
    "for element in search_list4:\n",
    "    old_model_treap4.search(element)\n",
    "    old_treap_search4 += old_model_treap4.comparisons_search\n",
    "old_model_search_table.append([len(search_list4), old_treap_search4])\n",
    "for element in search_list5:\n",
    "    old_model_treap5.search(element)\n",
    "    old_treap_search5 += old_model_treap5.comparisons_search\n",
    "old_model_search_table.append([len(search_list5), old_treap_search5])\n",
    "for element in search_list6:\n",
    "    old_model_treap6.search(element)\n",
    "    old_treap_search6 += old_model_treap6.comparisons_search\n",
    "old_model_search_table.append([len(search_list6), old_treap_search6])\n",
    "for element in search_list7:\n",
    "    old_model_treap7.search(element)\n",
    "    old_treap_search7 += old_model_treap7.comparisons_search\n",
    "old_model_search_table.append([len(search_list7), old_treap_search7])\n",
    "for element in search_list8:\n",
    "    old_model_treap8.search(element)\n",
    "    old_treap_search8 += old_model_treap8.comparisons_search\n",
    "old_model_search_table.append([len(search_list8), old_treap_search8])\n",
    "for element in search_list9:\n",
    "    old_model_treap9.search(element)\n",
    "    old_treap_search9 += old_model_treap9.comparisons_search\n",
    "old_model_search_table.append([len(search_list9), old_treap_search9])\n",
    "for element in search_list10:\n",
    "    old_model_treap10.search(element)\n",
    "    old_treap_search10 += old_model_treap10.comparisons_search\n",
    "old_model_search_table.append([len(search_list10), old_treap_search10])"
   ]
  },
  {
   "cell_type": "code",
   "execution_count": 81,
   "id": "689e7ab5-cd76-4dbe-b3ce-ecf75382d9fa",
   "metadata": {},
   "outputs": [],
   "source": [
    "new_treap_comp1 = 0\n",
    "new_treap_comp2 = 0\n",
    "new_treap_comp3 = 0\n",
    "new_treap_comp4 = 0\n",
    "new_treap_comp5 = 0\n",
    "new_treap_comp6 = 0\n",
    "new_treap_comp7 = 0\n",
    "new_treap_comp8 = 0\n",
    "new_treap_comp9 = 0\n",
    "new_treap_comp10 = 0"
   ]
  },
  {
   "cell_type": "code",
   "execution_count": 82,
   "id": "54a624f6-61d4-4e5c-baee-70c5800b2a0b",
   "metadata": {},
   "outputs": [],
   "source": [
    "new_treap_table = []\n",
    "for i in range(1, ins_index1):\n",
    "    new_model_treap1.insert(i, new_out[i])\n",
    "    new_treap_comp1 += new_model_treap1.comparisons_insert\n",
    "new_treap_table.append([ins_index1, new_treap_comp1])\n",
    "for i in range(1, ins_index2):\n",
    "    new_model_treap2.insert(i, new_out[i])\n",
    "    new_treap_comp2 += new_model_treap2.comparisons_insert\n",
    "new_treap_table.append([ins_index2, new_treap_comp2])\n",
    "for i in range(1, ins_index3):\n",
    "    new_model_treap3.insert(i, new_out[i])\n",
    "    new_treap_comp3 += new_model_treap3.comparisons_insert\n",
    "new_treap_table.append([ins_index3, new_treap_comp3])\n",
    "for i in range(1, ins_index4):\n",
    "    new_model_treap4.insert(i, new_out[i])\n",
    "    new_treap_comp4 += new_model_treap4.comparisons_insert\n",
    "new_treap_table.append([ins_index4, new_treap_comp4])\n",
    "for i in range(1, ins_index5):\n",
    "    new_model_treap5.insert(i, new_out[i])\n",
    "    new_treap_comp5 += new_model_treap5.comparisons_insert\n",
    "new_treap_table.append([ins_index5, new_treap_comp5])\n",
    "for i in range(1, ins_index6):\n",
    "    new_model_treap6.insert(i, new_out[i])\n",
    "    new_treap_comp6 += new_model_treap6.comparisons_insert\n",
    "new_treap_table.append([ins_index6, new_treap_comp6])\n",
    "for i in range(1, ins_index7):\n",
    "    new_model_treap7.insert(i, new_out[i])\n",
    "    new_treap_comp7 += new_model_treap7.comparisons_insert\n",
    "new_treap_table.append([ins_index7, new_treap_comp7])\n",
    "for i in range(1, ins_index8):\n",
    "    new_model_treap8.insert(i, new_out[i])\n",
    "    new_treap_comp8 += new_model_treap8.comparisons_insert\n",
    "new_treap_table.append([ins_index8, new_treap_comp8])\n",
    "for i in range(1, ins_index9):\n",
    "    new_model_treap9.insert(i, new_out[i])\n",
    "    new_treap_comp9 += new_model_treap9.comparisons_insert\n",
    "new_treap_table.append([ins_index9, new_treap_comp9])\n",
    "for i in range(1, ins_index10):\n",
    "    new_model_treap10.insert(i, new_out[i])\n",
    "    new_treap_comp10 += new_model_treap10.comparisons_insert\n",
    "new_treap_table.append([ins_index10, new_treap_comp10])"
   ]
  },
  {
   "cell_type": "code",
   "execution_count": 153,
   "id": "4fb0c8f5-16ca-497c-bb3d-ba598ac62e58",
   "metadata": {},
   "outputs": [],
   "source": [
    "new_treap_search1 = 0\n",
    "new_treap_search2 = 0\n",
    "new_treap_search3 = 0\n",
    "new_treap_search4 = 0\n",
    "new_treap_search5 = 0\n",
    "new_treap_search6 = 0\n",
    "new_treap_search7 = 0\n",
    "new_treap_search8 = 0\n",
    "new_treap_search9 = 0\n",
    "new_treap_search10 = 0"
   ]
  },
  {
   "cell_type": "code",
   "execution_count": 154,
   "id": "47bfaa8a-19d3-4a3c-b064-5fd045f6c99a",
   "metadata": {},
   "outputs": [],
   "source": [
    "new_model_search_table = []\n",
    "for element in search_list1:\n",
    "    new_model_treap1.search(element)\n",
    "    new_treap_search1 += new_model_treap1.comparisons_search\n",
    "new_model_search_table.append([len(search_list1), new_treap_search1])\n",
    "for element in search_list2:\n",
    "    new_model_treap2.search(element)\n",
    "    new_treap_search2 += new_model_treap2.comparisons_search\n",
    "new_model_search_table.append([len(search_list2), new_treap_search2])\n",
    "for element in search_list3:\n",
    "    new_model_treap3.search(element)\n",
    "    new_treap_search3 += new_model_treap3.comparisons_search\n",
    "new_model_search_table.append([len(search_list3), new_treap_search3])\n",
    "for element in search_list4:\n",
    "    new_model_treap4.search(element)\n",
    "    new_treap_search4 += new_model_treap4.comparisons_search\n",
    "new_model_search_table.append([len(search_list4), new_treap_search4])\n",
    "for element in search_list5:\n",
    "    new_model_treap5.search(element)\n",
    "    new_treap_search5 += new_model_treap5.comparisons_search\n",
    "new_model_search_table.append([len(search_list5), new_treap_search5])\n",
    "for element in search_list6:\n",
    "    new_model_treap6.search(element)\n",
    "    new_treap_search6 += new_model_treap6.comparisons_search\n",
    "new_model_search_table.append([len(search_list6), new_treap_search6])\n",
    "for element in search_list7:\n",
    "    new_model_treap7.search(element)\n",
    "    new_treap_search7 += new_model_treap7.comparisons_search\n",
    "new_model_search_table.append([len(search_list7), new_treap_search7])\n",
    "for element in search_list8:\n",
    "    new_model_treap8.search(element)\n",
    "    new_treap_search8 += new_model_treap8.comparisons_search\n",
    "new_model_search_table.append([len(search_list8), new_treap_search8])\n",
    "for element in search_list9:\n",
    "    new_model_treap9.search(element)\n",
    "    new_treap_search9 += new_model_treap9.comparisons_search\n",
    "new_model_search_table.append([len(search_list9), new_treap_search9])\n",
    "for element in search_list10:\n",
    "    new_model_treap10.search(element)\n",
    "    new_treap_search10 += new_model_treap10.comparisons_search\n",
    "new_model_search_table.append([len(search_list10), new_treap_search10])"
   ]
  },
  {
   "cell_type": "code",
   "execution_count": 67,
   "id": "954ddfd8-71e5-42df-9235-67c0321c7362",
   "metadata": {},
   "outputs": [],
   "source": [
    "import random\n",
    "\n",
    "class Node:\n",
    "    def __init__(self, key=None, priority=None):\n",
    "        self.key = key\n",
    "        self.priority = priority\n",
    "        self.left = None\n",
    "        self.right = None\n",
    "\n",
    "class RandomTreap:\n",
    "    def __init__(self):\n",
    "        self.root = None\n",
    "        self.comparisons = 0\n",
    "        self.comparisons_search = 0\n",
    "        self.comparisons_delete = 0\n",
    "\n",
    "    def insert(self, key):\n",
    "        self.comparisons_insert = 0\n",
    "        priority = random.randint(1, 20000)\n",
    "        self.root, success = self._insert(self.root, key, priority)\n",
    "        return success\n",
    "\n",
    "    def _insert(self, node, key, priority):\n",
    "        self.comparisons_insert += 1\n",
    "        if node is None:\n",
    "            return Node(key, priority), True\n",
    "\n",
    "        if key == node.key:\n",
    "            return node, False\n",
    "\n",
    "        if key < node.key:\n",
    "            node.left, success = self._insert(node.left, key, priority)\n",
    "            if priority > node.priority:\n",
    "                node = self._rotate_right(node)\n",
    "            return node, success\n",
    "\n",
    "        node.right, success = self._insert(node.right, key, priority)\n",
    "        if priority > node.priority:\n",
    "            node = self._rotate_left(node)\n",
    "        return node, success\n",
    "\n",
    "    def search(self, key):\n",
    "        self.comparisons_search = 0\n",
    "        node = self.root\n",
    "        while node is not None:\n",
    "            self.comparisons_search += 1\n",
    "            if key == node.key:\n",
    "                return node\n",
    "            elif key < node.key:\n",
    "                node = node.left\n",
    "            else:\n",
    "                node = node.right\n",
    "        return None\n",
    "\n",
    "    def delete(self, key):\n",
    "        self.comparisons_delete = 0\n",
    "        self.root, success = self._delete(self.root, key)\n",
    "        return success\n",
    "\n",
    "    def _delete(self, node, key):\n",
    "        self.comparisons_delete +=1\n",
    "        if node is None:\n",
    "            return None, False\n",
    "\n",
    "        if key == node.key:\n",
    "            if node.left is None and node.right is None:\n",
    "                return None, True\n",
    "            elif node.left is None:\n",
    "                return node.right, True\n",
    "            elif node.right is None:\n",
    "                return node.left, True\n",
    "            elif node.left.priority > node.right.priority:\n",
    "                node = self._rotate_right(node)\n",
    "                node.right, success = self._delete(node.right, key)\n",
    "            else:\n",
    "                node = self._rotate_left(node)\n",
    "                node.left, success = self._delete(node.left, key)\n",
    "            return node, True\n",
    "\n",
    "        if key < node.key:\n",
    "            node.left, success = self._delete(node.left, key)\n",
    "        else:\n",
    "            node.right, success = self._delete(node.right, key)\n",
    "        return node, success\n",
    "\n",
    "    def successor(self, key):\n",
    "        node = self.root\n",
    "        succ = None\n",
    "        while node is not None:\n",
    "            self.comparisons += 1\n",
    "            if node.key > key:\n",
    "                succ = node\n",
    "                node = node.left\n",
    "            else:\n",
    "                node = node.right\n",
    "        return succ\n",
    "\n",
    "    def _rotate_right(self, node):\n",
    "        left_child = node.left\n",
    "        node.left = left_child.right\n",
    "        left_child.right = node\n",
    "        return left_child\n",
    "\n",
    "    def _rotate_left(self, node):\n",
    "        right_child = node.right\n",
    "        node.right = right_child.left\n",
    "        right_child.left = node\n",
    "        return right_child"
   ]
  },
  {
   "cell_type": "code",
   "execution_count": 68,
   "id": "29911458-1b3a-4037-8a46-97c93addf3aa",
   "metadata": {},
   "outputs": [],
   "source": [
    "classic_treap1 = RandomTreap()\n",
    "classic_treap2 = RandomTreap()\n",
    "classic_treap3 = RandomTreap()\n",
    "classic_treap4 = RandomTreap()\n",
    "classic_treap5 = RandomTreap()\n",
    "classic_treap6 = RandomTreap()\n",
    "classic_treap7 = RandomTreap()\n",
    "classic_treap8 = RandomTreap()\n",
    "classic_treap9 = RandomTreap()\n",
    "classic_treap10 = RandomTreap()"
   ]
  },
  {
   "cell_type": "code",
   "execution_count": 69,
   "id": "583248c5-2112-4a1c-8688-607f30d35d03",
   "metadata": {},
   "outputs": [],
   "source": [
    "classic_treap_comp1 = 0\n",
    "classic_treap_comp2 = 0\n",
    "classic_treap_comp3 = 0\n",
    "classic_treap_comp4 = 0\n",
    "classic_treap_comp5 = 0\n",
    "classic_treap_comp6 = 0\n",
    "classic_treap_comp7 = 0\n",
    "classic_treap_comp8 = 0\n",
    "classic_treap_comp9 = 0\n",
    "classic_treap_comp10 = 0"
   ]
  },
  {
   "cell_type": "code",
   "execution_count": 71,
   "id": "14ba7285-a02f-4c9e-83d5-7d3a47e7db38",
   "metadata": {},
   "outputs": [],
   "source": [
    "classic_treap_table = []\n",
    "for i in range(1, ins_index1):\n",
    "    classic_treap1.insert(i)\n",
    "    classic_treap_comp1 += classic_treap1.comparisons_insert\n",
    "classic_treap_table.append([ins_index1, classic_treap_comp1])\n",
    "for i in range(1, ins_index2):\n",
    "    classic_treap2.insert(i)\n",
    "    classic_treap_comp2 += classic_treap2.comparisons_insert\n",
    "classic_treap_table.append([ins_index2, classic_treap_comp2])\n",
    "for i in range(1, ins_index3):\n",
    "    classic_treap3.insert(i)\n",
    "    classic_treap_comp3 += classic_treap3.comparisons_insert\n",
    "classic_treap_table.append([ins_index3, classic_treap_comp3])\n",
    "for i in range(1, ins_index4):\n",
    "    classic_treap4.insert(i)\n",
    "    classic_treap_comp4 += classic_treap4.comparisons_insert\n",
    "classic_treap_table.append([ins_index4, classic_treap_comp4])\n",
    "for i in range(1, ins_index5):\n",
    "    classic_treap5.insert(i)\n",
    "    classic_treap_comp5 += classic_treap5.comparisons_insert\n",
    "classic_treap_table.append([ins_index5, classic_treap_comp5])\n",
    "for i in range(1, ins_index6):\n",
    "    classic_treap6.insert(i)\n",
    "    classic_treap_comp6 += classic_treap6.comparisons_insert\n",
    "classic_treap_table.append([ins_index6, classic_treap_comp6])\n",
    "for i in range(1, ins_index7):\n",
    "    classic_treap7.insert(i)\n",
    "    classic_treap_comp7 += classic_treap7.comparisons_insert\n",
    "classic_treap_table.append([ins_index7, classic_treap_comp7])\n",
    "for i in range(1, ins_index8):\n",
    "    classic_treap8.insert(i)\n",
    "    classic_treap_comp8 += classic_treap8.comparisons_insert\n",
    "classic_treap_table.append([ins_index8, classic_treap_comp8])\n",
    "for i in range(1, ins_index9):\n",
    "    classic_treap9.insert(i)\n",
    "    classic_treap_comp9 += classic_treap9.comparisons_insert\n",
    "classic_treap_table.append([ins_index9, classic_treap_comp9])\n",
    "for i in range(1, ins_index10):\n",
    "    classic_treap10.insert(i)\n",
    "    classic_treap_comp10 += classic_treap10.comparisons_insert\n",
    "classic_treap_table.append([ins_index10, classic_treap_comp10])"
   ]
  },
  {
   "cell_type": "code",
   "execution_count": 99,
   "id": "e4682d32-69bf-4b73-ad94-91f1bf9d603b",
   "metadata": {},
   "outputs": [],
   "source": [
    "classic_treap_search1 = 0\n",
    "classic_treap_search2 = 0\n",
    "classic_treap_search3 = 0\n",
    "classic_treap_search4 = 0\n",
    "classic_treap_search5 = 0\n",
    "classic_treap_search6 = 0\n",
    "classic_treap_search7 = 0\n",
    "classic_treap_search8 = 0\n",
    "classic_treap_search9 = 0\n",
    "classic_treap_search10 = 0"
   ]
  },
  {
   "cell_type": "code",
   "execution_count": 100,
   "id": "1b2d2200-7c39-4f8f-94ac-5fd6907a04f3",
   "metadata": {},
   "outputs": [],
   "source": [
    "classic_treap_search_table = []\n",
    "for element in search_list1:\n",
    "    classic_treap1.search(element)\n",
    "    new_treap_search1 += classic_treap1.comparisons_search\n",
    "classic_treap_search_table.append([len(search_list1), new_treap_search1])\n",
    "for element in search_list2:\n",
    "    classic_treap2.search(element)\n",
    "    new_treap_search2 += classic_treap2.comparisons_search\n",
    "classic_treap_search_table.append([len(search_list2), new_treap_search2])\n",
    "for element in search_list3:\n",
    "    classic_treap3.search(element)\n",
    "    new_treap_search3 += classic_treap3.comparisons_search\n",
    "classic_treap_search_table.append([len(search_list3), new_treap_search3])\n",
    "for element in search_list4:\n",
    "    classic_treap4.search(element)\n",
    "    new_treap_search4 += classic_treap4.comparisons_search\n",
    "classic_treap_search_table.append([len(search_list4), new_treap_search4])\n",
    "for element in search_list5:\n",
    "    classic_treap5.search(element)\n",
    "    new_treap_search5 += classic_treap5.comparisons_search\n",
    "classic_treap_search_table.append([len(search_list5), new_treap_search5])\n",
    "for element in search_list6:\n",
    "    classic_treap6.search(element)\n",
    "    new_treap_search6 += classic_treap6.comparisons_search\n",
    "classic_treap_search_table.append([len(search_list6), new_treap_search6])\n",
    "for element in search_list7:\n",
    "    classic_treap7.search(element)\n",
    "    new_treap_search7 += classic_treap7.comparisons_search\n",
    "classic_treap_search_table.append([len(search_list7), new_treap_search7])\n",
    "for element in search_list8:\n",
    "    classic_treap8.search(element)\n",
    "    new_treap_search8 += classic_treap8.comparisons_search\n",
    "classic_treap_search_table.append([len(search_list8), new_treap_search8])\n",
    "for element in search_list9:\n",
    "    classic_treap9.search(element)\n",
    "    new_treap_search9 += classic_treap9.comparisons_search\n",
    "classic_treap_search_table.append([len(search_list9), new_treap_search9])\n",
    "for element in search_list10:\n",
    "    classic_treap10.search(element)\n",
    "    new_treap_search10 += classic_treap10.comparisons_search\n",
    "classic_treap_search_table.append([len(search_list10), new_treap_search10])"
   ]
  },
  {
   "cell_type": "code",
   "execution_count": 192,
   "id": "15bd9584-5ea7-4131-8e33-da03c29cda2d",
   "metadata": {},
   "outputs": [
    {
     "data": {
      "image/png": "[encoded data removed]",
      "text/plain": [
       "<Figure size 640x480 with 1 Axes>"
      ]
     },
     "metadata": {},
     "output_type": "display_data"
    }
   ],
   "source": [
    "import matplotlib.pyplot as plt\n",
    "\n",
    "x11 = [d[0] for d in old_treap_table]\n",
    "y11 = [d[1] for d in old_treap_table]\n",
    "x21 = [d[0] for d in new_treap_table]\n",
    "y21 = [d[1] for d in new_treap_table]\n",
    "x31 = [d[0] for d in classic_treap_table]\n",
    "y31 = [d[1] for d in classic_treap_table]\n",
    "\n",
    "plt.plot(x11, y11, \"-yo\",label='Base Paper Model')\n",
    "plt.plot(x21, y21, \"-mo\",label='New Model')\n",
    "\n",
    "plt.xlabel('Number of Indexes')\n",
    "plt.ylabel('Total Number of Comparisons')\n",
    "plt.title('Insertion comparisons')\n",
    "plt.ticklabel_format(style='plain')\n",
    "plt.legend()\n",
    "\n",
    "plt.show()"
   ]
  },
  {
   "cell_type": "code",
   "execution_count": 190,
   "id": "5a5525df-2fc1-4f6c-8272-d78034f345ea",
   "metadata": {},
   "outputs": [
    {
     "data": {
      "image/png": "[encoded data removed]",
      "text/plain": [
       "<Figure size 640x480 with 1 Axes>"
      ]
     },
     "metadata": {},
     "output_type": "display_data"
    }
   ],
   "source": [
    "plt.plot(x21, y21, \"-mo\", label='New Model')\n",
    "plt.plot(x31, y31, \"-go\" , label='Treap')\n",
    "\n",
    "plt.xlabel('Number of Indexes')\n",
    "plt.ylabel('Total Number of Comparisons')\n",
    "plt.title('Insertion comparisons')\n",
    "plt.ticklabel_format(style='plain')\n",
    "plt.legend()\n",
    "\n",
    "plt.show()"
   ]
  },
  {
   "cell_type": "code",
   "execution_count": null,
   "id": "93b30d0c-bbf4-4282-85ca-27a4537fcd25",
   "metadata": {},
   "outputs": [],
   "source": [
    "total_comparisons = sum([d[1] for d in elements_graph])\n",
    "average_comparisons = total_comparisons/len(search_list)\n",
    "print(total_comparisons)\n",
    "print(round(average_comparisons, 2))"
   ]
  },
  {
   "cell_type": "code",
   "execution_count": null,
   "id": "db78490d-c5f4-4a70-a622-ea42a1ca7209",
   "metadata": {},
   "outputs": [],
   "source": [
    "n_total_comparisons = sum([d[1] for d in new_elements_graph])\n",
    "n_average_comparisons = n_total_comparisons/len(new_elements_graph)\n",
    "print(n_total_comparisons)\n",
    "print(round(n_average_comparisons, 2))"
   ]
  },
  {
   "cell_type": "code",
   "execution_count": null,
   "id": "bc602177-581f-4d7b-908e-a5b355961767",
   "metadata": {},
   "outputs": [],
   "source": [
    "t_total_comparisons = sum([d[1] for d in treap_graph])\n",
    "t_average_comparisons = t_total_comparisons/len(treap_graph)\n",
    "print(t_total_comparisons)\n",
    "print(round(t_average_comparisons, 2))"
   ]
  },
  {
   "cell_type": "code",
   "execution_count": 198,
   "id": "759a512b-8634-4cfa-8e24-80e584df2e9a",
   "metadata": {},
   "outputs": [
    {
     "data": {
      "image/png": "[encoded data removed]",
      "text/plain": [
       "<Figure size 640x480 with 1 Axes>"
      ]
     },
     "metadata": {},
     "output_type": "display_data"
    }
   ],
   "source": [
    "x12 = [d[0] for d in old_model_search_table]\n",
    "y12 = [d[1] for d in old_model_search_table]\n",
    "x22 = [d[0] for d in new_model_search_table]\n",
    "y22 = [d[1] for d in new_model_search_table]\n",
    "x32 = [d[0] for d in classic_treap_search_table]\n",
    "y32 = [d[1] for d in classic_treap_search_table]\n",
    "\n",
    "plt.plot(x12, y12,  \"-yo\", label='Base Paper Model')\n",
    "plt.plot(x22, y22, \"-mo\", label='New Model')\n",
    "\n",
    "plt.xlabel('Number of Indexes')\n",
    "plt.ylabel('Total Number of Comparisons')\n",
    "plt.title('Search comparisons')\n",
    "plt.ticklabel_format(style='plain', axis='y')\n",
    "\n",
    "plt.legend()\n",
    "\n",
    "plt.show()"
   ]
  },
  {
   "cell_type": "code",
   "execution_count": 199,
   "id": "92dcfb5d-1c5d-4c53-9e28-ab18e127e108",
   "metadata": {},
   "outputs": [
    {
     "data": {
      "image/png": "[encoded data removed]",
      "text/plain": [
       "<Figure size 640x480 with 1 Axes>"
      ]
     },
     "metadata": {},
     "output_type": "display_data"
    }
   ],
   "source": [
    "plt.plot(x32, y32, \"-go\",   label='Treap')\n",
    "plt.plot(x22, y22, \"-mo\",   label='New Model')\n",
    "\n",
    "plt.xlabel('Number of Indexes')\n",
    "plt.ylabel('Total Number of Comparisons')\n",
    "plt.title('Search comparisons')\n",
    "plt.ticklabel_format(style='plain', axis='y')\n",
    "\n",
    "plt.legend()\n",
    "\n",
    "plt.show()"
   ]
  },
  {
   "cell_type": "code",
   "execution_count": 103,
   "id": "35874970-4f85-4761-a9b9-b507745be8d9",
   "metadata": {},
   "outputs": [],
   "source": [
    "delete_list1 = aol_frequency_test.sort_values(by=\"freq\" , ascending=True)[:2500].index.to_list()\n",
    "delete_list2 = aol_frequency_test.sort_values(by=\"freq\" , ascending=True)[:5000].index.to_list()\n",
    "delete_list3 = aol_frequency_test.sort_values(by=\"freq\" , ascending=True)[:7500].index.to_list()\n",
    "delete_list4 = aol_frequency_test.sort_values(by=\"freq\" , ascending=True)[:10000].index.to_list()\n",
    "delete_list5 = aol_frequency_test.sort_values(by=\"freq\" , ascending=True)[:12500].index.to_list()\n",
    "delete_list6 = aol_frequency_test.sort_values(by=\"freq\" , ascending=True)[:15000].index.to_list()\n",
    "delete_list7 = aol_frequency_test.sort_values(by=\"freq\" , ascending=True)[:17500].index.to_list()\n",
    "delete_list8 = aol_frequency_test.sort_values(by=\"freq\" , ascending=True)[:20000].index.to_list()\n",
    "delete_list9 = aol_frequency_test.sort_values(by=\"freq\" , ascending=True)[:22500].index.to_list()\n",
    "delete_list10 = aol_frequency_test.sort_values(by=\"freq\" , ascending=True)[:25000].index.to_list()"
   ]
  },
  {
   "cell_type": "code",
   "execution_count": 104,
   "id": "64a1d016-5f29-42c6-90b9-4fd0fdca5b96",
   "metadata": {},
   "outputs": [],
   "source": [
    "old_treap_delete1 = 0\n",
    "old_treap_delete2 = 0\n",
    "old_treap_delete3 = 0\n",
    "old_treap_delete4 = 0\n",
    "old_treap_delete5 = 0\n",
    "old_treap_delete6 = 0\n",
    "old_treap_delete7 = 0\n",
    "old_treap_delete8 = 0\n",
    "old_treap_delete9 = 0\n",
    "old_treap_delete10 = 0"
   ]
  },
  {
   "cell_type": "code",
   "execution_count": 105,
   "id": "da175a8e-f3f6-4782-bdba-2a5c473eb8d9",
   "metadata": {},
   "outputs": [],
   "source": [
    "old_model_delete_table = []\n",
    "for element in delete_list1:\n",
    "    old_model_treap1.delete(element)\n",
    "    old_treap_delete1 += old_model_treap1.comparisons_delete\n",
    "old_model_delete_table.append([len(delete_list1), old_treap_delete1])\n",
    "for element in delete_list2:\n",
    "    old_model_treap2.delete(element)\n",
    "    old_treap_delete2 += old_model_treap2.comparisons_delete\n",
    "old_model_delete_table.append([len(delete_list2), old_treap_delete2])\n",
    "for element in delete_list3:\n",
    "    old_model_treap3.delete(element)\n",
    "    old_treap_delete3 += old_model_treap3.comparisons_delete\n",
    "old_model_delete_table.append([len(delete_list3), old_treap_delete3])\n",
    "for element in delete_list4:\n",
    "    old_model_treap4.delete(element)\n",
    "    old_treap_delete4 += old_model_treap4.comparisons_delete\n",
    "old_model_delete_table.append([len(delete_list4), old_treap_delete4])\n",
    "for element in delete_list5:\n",
    "    old_model_treap5.delete(element)\n",
    "    old_treap_delete5 += old_model_treap5.comparisons_delete\n",
    "old_model_delete_table.append([len(delete_list5), old_treap_delete5])\n",
    "for element in delete_list6:\n",
    "    old_model_treap6.delete(element)\n",
    "    old_treap_delete6 += old_model_treap6.comparisons_delete\n",
    "old_model_delete_table.append([len(delete_list6), old_treap_delete6])\n",
    "for element in delete_list7:\n",
    "    old_model_treap7.delete(element)\n",
    "    old_treap_delete7 += old_model_treap7.comparisons_delete\n",
    "old_model_delete_table.append([len(delete_list7), old_treap_delete7])\n",
    "for element in delete_list8:\n",
    "    old_model_treap8.delete(element)\n",
    "    old_treap_delete8 += old_model_treap8.comparisons_delete\n",
    "old_model_delete_table.append([len(delete_list8), old_treap_delete8])\n",
    "for element in delete_list9:\n",
    "    old_model_treap9.delete(element)\n",
    "    old_treap_delete9 += old_model_treap9.comparisons_delete\n",
    "old_model_delete_table.append([len(delete_list9), old_treap_delete9])\n",
    "for element in delete_list10:\n",
    "    old_model_treap10.delete(element)\n",
    "    old_treap_delete10 += old_model_treap10.comparisons_delete\n",
    "old_model_delete_table.append([len(delete_list10), old_treap_delete10])"
   ]
  },
  {
   "cell_type": "code",
   "execution_count": 106,
   "id": "fd55af9b-1950-4c73-b550-2bbf38341b26",
   "metadata": {},
   "outputs": [],
   "source": [
    "new_treap_delete1 = 0\n",
    "new_treap_delete2 = 0\n",
    "new_treap_delete3 = 0\n",
    "new_treap_delete4 = 0\n",
    "new_treap_delete5 = 0\n",
    "new_treap_delete6 = 0\n",
    "new_treap_delete7 = 0\n",
    "new_treap_delete8 = 0\n",
    "new_treap_delete9 = 0\n",
    "new_treap_delete10 = 0"
   ]
  },
  {
   "cell_type": "code",
   "execution_count": 107,
   "id": "51fac56f-686e-4b46-ad18-cf0b69cf7015",
   "metadata": {},
   "outputs": [],
   "source": [
    "new_model_delete_table = []\n",
    "for element in delete_list1:\n",
    "    new_model_treap1.delete(element)\n",
    "    new_treap_delete1 += new_model_treap1.comparisons_delete\n",
    "new_model_delete_table.append([len(delete_list1), new_treap_delete1])\n",
    "for element in delete_list2:\n",
    "    new_model_treap2.delete(element)\n",
    "    new_treap_delete2 += new_model_treap2.comparisons_delete\n",
    "new_model_delete_table.append([len(delete_list2), new_treap_delete2])\n",
    "for element in delete_list3:\n",
    "    new_model_treap3.delete(element)\n",
    "    new_treap_delete3 += new_model_treap3.comparisons_delete\n",
    "new_model_delete_table.append([len(delete_list3), new_treap_delete3])\n",
    "for element in delete_list4:\n",
    "    new_model_treap4.delete(element)\n",
    "    new_treap_delete4 += new_model_treap4.comparisons_delete\n",
    "new_model_delete_table.append([len(delete_list4), new_treap_delete4])\n",
    "for element in delete_list5:\n",
    "    new_model_treap5.delete(element)\n",
    "    new_treap_delete5 += new_model_treap5.comparisons_delete\n",
    "new_model_delete_table.append([len(delete_list5), new_treap_delete5])\n",
    "for element in delete_list6:\n",
    "    new_model_treap6.delete(element)\n",
    "    new_treap_delete6 += new_model_treap6.comparisons_delete\n",
    "new_model_delete_table.append([len(delete_list6), new_treap_delete6])\n",
    "for element in delete_list7:\n",
    "    new_model_treap7.delete(element)\n",
    "    new_treap_delete7 += new_model_treap7.comparisons_delete\n",
    "new_model_delete_table.append([len(delete_list7), new_treap_delete7])\n",
    "for element in delete_list8:\n",
    "    new_model_treap8.delete(element)\n",
    "    new_treap_delete8 += new_model_treap8.comparisons_delete\n",
    "new_model_delete_table.append([len(delete_list8), new_treap_delete8])\n",
    "for element in delete_list9:\n",
    "    new_model_treap9.delete(element)\n",
    "    new_treap_delete9 += new_model_treap9.comparisons_delete\n",
    "new_model_delete_table.append([len(delete_list9), new_treap_delete9])\n",
    "for element in delete_list10:\n",
    "    new_model_treap10.delete(element)\n",
    "    new_treap_delete10 += new_model_treap10.comparisons_delete\n",
    "new_model_delete_table.append([len(delete_list10), new_treap_delete10])"
   ]
  },
  {
   "cell_type": "code",
   "execution_count": 108,
   "id": "a3752804-275e-46a5-afb4-f3d0322a7bc8",
   "metadata": {},
   "outputs": [],
   "source": [
    "classic_treap_delete1 = 0\n",
    "classic_treap_delete2 = 0\n",
    "classic_treap_delete3 = 0\n",
    "classic_treap_delete4 = 0\n",
    "classic_treap_delete5 = 0\n",
    "classic_treap_delete6 = 0\n",
    "classic_treap_delete7 = 0\n",
    "classic_treap_delete8 = 0\n",
    "classic_treap_delete9 = 0\n",
    "classic_treap_delete10 = 0"
   ]
  },
  {
   "cell_type": "code",
   "execution_count": 109,
   "id": "e2645ffa-50d8-4172-8026-47faab496299",
   "metadata": {},
   "outputs": [],
   "source": [
    "classic_treap_delete_table = []\n",
    "for element in delete_list1:\n",
    "    classic_treap1.delete(element)\n",
    "    new_treap_delete1 += classic_treap1.comparisons_delete\n",
    "classic_treap_delete_table.append([len(delete_list1), new_treap_delete1])\n",
    "for element in delete_list2:\n",
    "    classic_treap2.delete(element)\n",
    "    new_treap_delete2 += classic_treap2.comparisons_delete\n",
    "classic_treap_delete_table.append([len(delete_list2), new_treap_delete2])\n",
    "for element in delete_list3:\n",
    "    classic_treap3.delete(element)\n",
    "    new_treap_delete3 += classic_treap3.comparisons_delete\n",
    "classic_treap_delete_table.append([len(delete_list3), new_treap_delete3])\n",
    "for element in delete_list4:\n",
    "    classic_treap4.delete(element)\n",
    "    new_treap_delete4 += classic_treap4.comparisons_delete\n",
    "classic_treap_delete_table.append([len(delete_list4), new_treap_delete4])\n",
    "for element in delete_list5:\n",
    "    classic_treap5.delete(element)\n",
    "    new_treap_delete5 += classic_treap5.comparisons_delete\n",
    "classic_treap_delete_table.append([len(delete_list5), new_treap_delete5])\n",
    "for element in delete_list6:\n",
    "    classic_treap6.delete(element)\n",
    "    new_treap_delete6 += classic_treap6.comparisons_delete\n",
    "classic_treap_delete_table.append([len(delete_list6), new_treap_delete6])\n",
    "for element in delete_list7:\n",
    "    classic_treap7.delete(element)\n",
    "    new_treap_delete7 += classic_treap7.comparisons_delete\n",
    "classic_treap_delete_table.append([len(delete_list7), new_treap_delete7])\n",
    "for element in delete_list8:\n",
    "    classic_treap8.delete(element)\n",
    "    new_treap_delete8 += classic_treap8.comparisons_delete\n",
    "classic_treap_delete_table.append([len(delete_list8), new_treap_delete8])\n",
    "for element in delete_list9:\n",
    "    classic_treap9.delete(element)\n",
    "    new_treap_delete9 += classic_treap9.comparisons_delete\n",
    "classic_treap_delete_table.append([len(delete_list9), new_treap_delete9])\n",
    "for element in delete_list10:\n",
    "    classic_treap10.delete(element)\n",
    "    new_treap_delete10 += classic_treap10.comparisons_delete\n",
    "classic_treap_delete_table.append([len(delete_list10), new_treap_delete10])"
   ]
  },
  {
   "cell_type": "code",
   "execution_count": 200,
   "id": "9970f4dc-1efe-4741-81e4-91499f74e121",
   "metadata": {},
   "outputs": [
    {
     "data": {
      "image/png": "[encoded data removed]",
      "text/plain": [
       "<Figure size 640x480 with 1 Axes>"
      ]
     },
     "metadata": {},
     "output_type": "display_data"
    }
   ],
   "source": [
    "x13 = [d[0] for d in old_model_delete_table]\n",
    "y13 = [d[1] for d in old_model_delete_table]\n",
    "x23 = [d[0] for d in new_model_delete_table]\n",
    "y23 = [d[1] for d in new_model_delete_table]\n",
    "x33 = [d[0] for d in classic_treap_delete_table]\n",
    "y33 = [d[1] for d in classic_treap_delete_table]\n",
    "\n",
    "plt.plot(x13, y13, \"-yo\",label='Base Paper Model')\n",
    "plt.plot(x23, y23,\"-mo\", label='New Model')\n",
    "\n",
    "plt.xlabel('Number of Indexes')\n",
    "plt.ylabel('Total Number of Comparisons')\n",
    "plt.title('Delete comparisons')\n",
    "plt.ticklabel_format(useOffset=False)\n",
    "\n",
    "plt.legend()\n",
    "\n",
    "plt.show()"
   ]
  },
  {
   "cell_type": "code",
   "execution_count": 202,
   "id": "4877e9d7-bda3-4368-89e1-de3ab3c25039",
   "metadata": {},
   "outputs": [
    {
     "data": {
      "image/png": "[encoded data removed]",
      "text/plain": [
       "<Figure size 640x480 with 1 Axes>"
      ]
     },
     "metadata": {},
     "output_type": "display_data"
    }
   ],
   "source": [
    "plt.plot(x33, y33, \"-go\", label='Treap')\n",
    "plt.plot(x23, y23, \"-mo\",label='New Model')\n",
    "\n",
    "plt.xlabel('Number of Indexes')\n",
    "plt.ylabel('Total Number of Comparisons')\n",
    "plt.title('Delete comparisons')\n",
    "plt.ticklabel_format(style='plain', axis='y')\n",
    "\n",
    "plt.legend()\n",
    "\n",
    "plt.show()"
   ]
  },
  {
   "cell_type": "code",
   "execution_count": 137,
   "id": "e8dbd6e5-15d0-465f-ad61-aeb131571e0c",
   "metadata": {},
   "outputs": [
    {
     "data": {
      "text/plain": [
       "<texttable.Texttable at 0x1ce0684b0a0>"
      ]
     },
     "execution_count": 137,
     "metadata": {},
     "output_type": "execute_result"
    }
   ],
   "source": [
    "from texttable import Texttable\n",
    "t = Texttable()\n",
    "t.add_row(['Data Structure', 'Operation', 'Number of Indexes', 'Average Comparisons'])"
   ]
  },
  {
   "cell_type": "code",
   "execution_count": 138,
   "id": "737a672e-857a-4e9c-959c-e8c678514c77",
   "metadata": {},
   "outputs": [],
   "source": [
    "for x,y in old_treap_table:\n",
    "    t.add_row([\"Learning Augmented Treap(Old model)\", \"Insertion\", x, y/x])"
   ]
  },
  {
   "cell_type": "code",
   "execution_count": 140,
   "id": "7d526fb5-f2d9-4aa4-836c-ae387c6c040d",
   "metadata": {},
   "outputs": [],
   "source": [
    "for x,y in new_treap_table:\n",
    "    t.add_row([\"Learning Augmented Treap(New model)\", \"Insertion\", x, y/x])"
   ]
  },
  {
   "cell_type": "code",
   "execution_count": 141,
   "id": "cf971832-7863-42dd-8927-88e1b9df5182",
   "metadata": {},
   "outputs": [],
   "source": [
    "for x,y in classic_treap_table:\n",
    "    t.add_row([\"Classic Treap\", \"Insertion\", x, y/x])"
   ]
  },
  {
   "cell_type": "code",
   "execution_count": 142,
   "id": "9bc9d8ae-fc6c-4fe8-a2a3-b3358d26c4d5",
   "metadata": {},
   "outputs": [
    {
     "name": "stdout",
     "output_type": "stream",
     "text": [
      "+------------------------+-----------+-------------------+---------------------+\n",
      "| Data Structure         | Operation | Number of Indexes | Average Comparisons |\n",
      "+------------------------+-----------+-------------------+---------------------+\n",
      "| Learning Augmented     | Insertion | 10000             | 15.714              |\n",
      "| Treap(Old model)       |           |                   |                     |\n",
      "+------------------------+-----------+-------------------+---------------------+\n",
      "| Learning Augmented     | Insertion | 20000             | 17.180              |\n",
      "| Treap(Old model)       |           |                   |                     |\n",
      "+------------------------+-----------+-------------------+---------------------+\n",
      "| Learning Augmented     | Insertion | 30000             | 17.906              |\n",
      "| Treap(Old model)       |           |                   |                     |\n",
      "+------------------------+-----------+-------------------+---------------------+\n",
      "| Learning Augmented     | Insertion | 40000             | 17.759              |\n",
      "| Treap(Old model)       |           |                   |                     |\n",
      "+------------------------+-----------+-------------------+---------------------+\n",
      "| Learning Augmented     | Insertion | 50000             | 18.221              |\n",
      "| Treap(Old model)       |           |                   |                     |\n",
      "+------------------------+-----------+-------------------+---------------------+\n",
      "| Learning Augmented     | Insertion | 60000             | 18.929              |\n",
      "| Treap(Old model)       |           |                   |                     |\n",
      "+------------------------+-----------+-------------------+---------------------+\n",
      "| Learning Augmented     | Insertion | 70000             | 19.643              |\n",
      "| Treap(Old model)       |           |                   |                     |\n",
      "+------------------------+-----------+-------------------+---------------------+\n",
      "| Learning Augmented     | Insertion | 80000             | 20.359              |\n",
      "| Treap(Old model)       |           |                   |                     |\n",
      "+------------------------+-----------+-------------------+---------------------+\n",
      "| Learning Augmented     | Insertion | 90000             | 21.247              |\n",
      "| Treap(Old model)       |           |                   |                     |\n",
      "+------------------------+-----------+-------------------+---------------------+\n",
      "| Learning Augmented     | Insertion | 100000            | 21.468              |\n",
      "| Treap(Old model)       |           |                   |                     |\n",
      "+------------------------+-----------+-------------------+---------------------+\n",
      "| Learning Augmented     | Insertion | 10000             | 12.163              |\n",
      "| Treap(New model)       |           |                   |                     |\n",
      "+------------------------+-----------+-------------------+---------------------+\n",
      "| Learning Augmented     | Insertion | 20000             | 13.036              |\n",
      "| Treap(New model)       |           |                   |                     |\n",
      "+------------------------+-----------+-------------------+---------------------+\n",
      "| Learning Augmented     | Insertion | 30000             | 13.034              |\n",
      "| Treap(New model)       |           |                   |                     |\n",
      "+------------------------+-----------+-------------------+---------------------+\n",
      "| Learning Augmented     | Insertion | 40000             | 13.347              |\n",
      "| Treap(New model)       |           |                   |                     |\n",
      "+------------------------+-----------+-------------------+---------------------+\n",
      "| Learning Augmented     | Insertion | 50000             | 13.305              |\n",
      "| Treap(New model)       |           |                   |                     |\n",
      "+------------------------+-----------+-------------------+---------------------+\n",
      "| Learning Augmented     | Insertion | 60000             | 13.410              |\n",
      "| Treap(New model)       |           |                   |                     |\n",
      "+------------------------+-----------+-------------------+---------------------+\n",
      "| Learning Augmented     | Insertion | 70000             | 13.413              |\n",
      "| Treap(New model)       |           |                   |                     |\n",
      "+------------------------+-----------+-------------------+---------------------+\n",
      "| Learning Augmented     | Insertion | 80000             | 13.984              |\n",
      "| Treap(New model)       |           |                   |                     |\n",
      "+------------------------+-----------+-------------------+---------------------+\n",
      "| Learning Augmented     | Insertion | 90000             | 14.207              |\n",
      "| Treap(New model)       |           |                   |                     |\n",
      "+------------------------+-----------+-------------------+---------------------+\n",
      "| Learning Augmented     | Insertion | 100000            | 14.203              |\n",
      "| Treap(New model)       |           |                   |                     |\n",
      "+------------------------+-----------+-------------------+---------------------+\n",
      "| Classic Treap          | Insertion | 10000             | 9.375               |\n",
      "+------------------------+-----------+-------------------+---------------------+\n",
      "| Classic Treap          | Insertion | 20000             | 10.457              |\n",
      "+------------------------+-----------+-------------------+---------------------+\n",
      "| Classic Treap          | Insertion | 30000             | 11.267              |\n",
      "+------------------------+-----------+-------------------+---------------------+\n",
      "| Classic Treap          | Insertion | 40000             | 11.290              |\n",
      "+------------------------+-----------+-------------------+---------------------+\n",
      "| Classic Treap          | Insertion | 50000             | 13.304              |\n",
      "+------------------------+-----------+-------------------+---------------------+\n",
      "| Classic Treap          | Insertion | 60000             | 12.523              |\n",
      "+------------------------+-----------+-------------------+---------------------+\n",
      "| Classic Treap          | Insertion | 70000             | 12.712              |\n",
      "+------------------------+-----------+-------------------+---------------------+\n",
      "| Classic Treap          | Insertion | 80000             | 13.225              |\n",
      "+------------------------+-----------+-------------------+---------------------+\n",
      "| Classic Treap          | Insertion | 90000             | 15.460              |\n",
      "+------------------------+-----------+-------------------+---------------------+\n",
      "| Classic Treap          | Insertion | 100000            | 11.999              |\n",
      "+------------------------+-----------+-------------------+---------------------+\n"
     ]
    }
   ],
   "source": [
    "print(t.draw())"
   ]
  },
  {
   "cell_type": "code",
   "execution_count": 143,
   "id": "ae70a82a-fbee-4a85-b46d-a5ae918c155d",
   "metadata": {},
   "outputs": [
    {
     "data": {
      "text/plain": [
       "<texttable.Texttable at 0x1ce0ee8bd90>"
      ]
     },
     "execution_count": 143,
     "metadata": {},
     "output_type": "execute_result"
    }
   ],
   "source": [
    "t1 = Texttable()\n",
    "t1.add_row(['Data Structure', 'Operation', 'Number of Indexes', 'Average Comparisons'])"
   ]
  },
  {
   "cell_type": "code",
   "execution_count": 144,
   "id": "9e0fd1d4-0cbd-41cc-8139-c5b00c8d2355",
   "metadata": {},
   "outputs": [],
   "source": [
    "for x,y in old_model_search_table:\n",
    "    t1.add_row([\"Learning Augmented Treap(Old model)\", \"Search\", x, y/x])"
   ]
  },
  {
   "cell_type": "code",
   "execution_count": 145,
   "id": "cc2b4138-1e7d-4450-a490-31af75bcc05f",
   "metadata": {},
   "outputs": [],
   "source": [
    "for x,y in new_model_search_table:\n",
    "    t1.add_row([\"Learning Augmented Treap(New model)\", \"Search\", x, y/x])"
   ]
  },
  {
   "cell_type": "code",
   "execution_count": 146,
   "id": "0bc7d1ca-6b3f-433f-bb0c-c4e5c34cf1ef",
   "metadata": {},
   "outputs": [],
   "source": [
    "for x,y in classic_treap_search_table:\n",
    "    t1.add_row([\"Classic Treap\", \"Search\", x, y/x])"
   ]
  },
  {
   "cell_type": "code",
   "execution_count": 147,
   "id": "4b8fe202-ed31-4dd2-b25a-ae25acd723b7",
   "metadata": {},
   "outputs": [
    {
     "name": "stdout",
     "output_type": "stream",
     "text": [
      "+------------------------+-----------+-------------------+---------------------+\n",
      "| Data Structure         | Operation | Number of Indexes | Average Comparisons |\n",
      "+------------------------+-----------+-------------------+---------------------+\n",
      "| Learning Augmented     | Search    | 5000              | 19.261              |\n",
      "| Treap(Old model)       |           |                   |                     |\n",
      "+------------------------+-----------+-------------------+---------------------+\n",
      "| Learning Augmented     | Search    | 10000             | 20.516              |\n",
      "| Treap(Old model)       |           |                   |                     |\n",
      "+------------------------+-----------+-------------------+---------------------+\n",
      "| Learning Augmented     | Search    | 15000             | 21.631              |\n",
      "| Treap(Old model)       |           |                   |                     |\n",
      "+------------------------+-----------+-------------------+---------------------+\n",
      "| Learning Augmented     | Search    | 20000             | 17.459              |\n",
      "| Treap(Old model)       |           |                   |                     |\n",
      "+------------------------+-----------+-------------------+---------------------+\n",
      "| Learning Augmented     | Search    | 25000             | 22.016              |\n",
      "| Treap(Old model)       |           |                   |                     |\n",
      "+------------------------+-----------+-------------------+---------------------+\n",
      "| Learning Augmented     | Search    | 30000             | 23.635              |\n",
      "| Treap(Old model)       |           |                   |                     |\n",
      "+------------------------+-----------+-------------------+---------------------+\n",
      "| Learning Augmented     | Search    | 35000             | 27.366              |\n",
      "| Treap(Old model)       |           |                   |                     |\n",
      "+------------------------+-----------+-------------------+---------------------+\n",
      "| Learning Augmented     | Search    | 40000             | 26.477              |\n",
      "| Treap(Old model)       |           |                   |                     |\n",
      "+------------------------+-----------+-------------------+---------------------+\n",
      "| Learning Augmented     | Search    | 45000             | 26.430              |\n",
      "| Treap(Old model)       |           |                   |                     |\n",
      "+------------------------+-----------+-------------------+---------------------+\n",
      "| Learning Augmented     | Search    | 50000             | 26.493              |\n",
      "| Treap(Old model)       |           |                   |                     |\n",
      "+------------------------+-----------+-------------------+---------------------+\n",
      "| Learning Augmented     | Search    | 5000              | 15.062              |\n",
      "| Treap(New model)       |           |                   |                     |\n",
      "+------------------------+-----------+-------------------+---------------------+\n",
      "| Learning Augmented     | Search    | 10000             | 12.707              |\n",
      "| Treap(New model)       |           |                   |                     |\n",
      "+------------------------+-----------+-------------------+---------------------+\n",
      "| Learning Augmented     | Search    | 15000             | 14.407              |\n",
      "| Treap(New model)       |           |                   |                     |\n",
      "+------------------------+-----------+-------------------+---------------------+\n",
      "| Learning Augmented     | Search    | 20000             | 12.540              |\n",
      "| Treap(New model)       |           |                   |                     |\n",
      "+------------------------+-----------+-------------------+---------------------+\n",
      "| Learning Augmented     | Search    | 25000             | 14.800              |\n",
      "| Treap(New model)       |           |                   |                     |\n",
      "+------------------------+-----------+-------------------+---------------------+\n",
      "| Learning Augmented     | Search    | 30000             | 12.597              |\n",
      "| Treap(New model)       |           |                   |                     |\n",
      "+------------------------+-----------+-------------------+---------------------+\n",
      "| Learning Augmented     | Search    | 35000             | 16.348              |\n",
      "| Treap(New model)       |           |                   |                     |\n",
      "+------------------------+-----------+-------------------+---------------------+\n",
      "| Learning Augmented     | Search    | 40000             | 19.181              |\n",
      "| Treap(New model)       |           |                   |                     |\n",
      "+------------------------+-----------+-------------------+---------------------+\n",
      "| Learning Augmented     | Search    | 45000             | 18.821              |\n",
      "| Treap(New model)       |           |                   |                     |\n",
      "+------------------------+-----------+-------------------+---------------------+\n",
      "| Learning Augmented     | Search    | 50000             | 20.638              |\n",
      "| Treap(New model)       |           |                   |                     |\n",
      "+------------------------+-----------+-------------------+---------------------+\n",
      "| Classic Treap          | Search    | 5000              | 25.861              |\n",
      "+------------------------+-----------+-------------------+---------------------+\n",
      "| Classic Treap          | Search    | 10000             | 21.069              |\n",
      "+------------------------+-----------+-------------------+---------------------+\n",
      "| Classic Treap          | Search    | 15000             | 30.668              |\n",
      "+------------------------+-----------+-------------------+---------------------+\n",
      "| Classic Treap          | Search    | 20000             | 26.069              |\n",
      "+------------------------+-----------+-------------------+---------------------+\n",
      "| Classic Treap          | Search    | 25000             | 32.375              |\n",
      "+------------------------+-----------+-------------------+---------------------+\n",
      "| Classic Treap          | Search    | 30000             | 29.208              |\n",
      "+------------------------+-----------+-------------------+---------------------+\n",
      "| Classic Treap          | Search    | 35000             | 32.496              |\n",
      "+------------------------+-----------+-------------------+---------------------+\n",
      "| Classic Treap          | Search    | 40000             | 38.396              |\n",
      "+------------------------+-----------+-------------------+---------------------+\n",
      "| Classic Treap          | Search    | 45000             | 39.090              |\n",
      "+------------------------+-----------+-------------------+---------------------+\n",
      "| Classic Treap          | Search    | 50000             | 39.865              |\n",
      "+------------------------+-----------+-------------------+---------------------+\n"
     ]
    }
   ],
   "source": [
    "print(t1.draw())"
   ]
  },
  {
   "cell_type": "code",
   "execution_count": 155,
   "id": "68fe169d-2801-41f0-a2d7-2584cd8b66e3",
   "metadata": {},
   "outputs": [
    {
     "data": {
      "text/plain": [
       "<texttable.Texttable at 0x1ce03f5ae60>"
      ]
     },
     "execution_count": 155,
     "metadata": {},
     "output_type": "execute_result"
    }
   ],
   "source": [
    "t2 = Texttable()\n",
    "t2.add_row(['Data Structure', 'Operation', 'Number of Indexes', 'Average Comparisons'])"
   ]
  },
  {
   "cell_type": "code",
   "execution_count": 156,
   "id": "bfb9fe20-341c-48f7-bb4b-cfcfb13e6cc8",
   "metadata": {},
   "outputs": [],
   "source": [
    "for x,y in old_model_delete_table:\n",
    "    t2.add_row([\"Learning Augmented Treap(Old model)\", \"Deletion\", x, y/x])"
   ]
  },
  {
   "cell_type": "code",
   "execution_count": 157,
   "id": "0c8bccb9-dc7a-4fcd-a5ab-cdc6d2d65ee7",
   "metadata": {},
   "outputs": [],
   "source": [
    "for x,y in new_model_delete_table:\n",
    "    t2.add_row([\"Learning Augmented Treap(New model)\", \"Deletion\", x, y/x])"
   ]
  },
  {
   "cell_type": "code",
   "execution_count": 158,
   "id": "eb8bd7e1-5afe-4a31-9cd8-6cf6ddf0a80e",
   "metadata": {},
   "outputs": [],
   "source": [
    "for x,y in classic_treap_delete_table:\n",
    "    t2.add_row([\"Classic Treap\", \"Deletion\", x, y/x])"
   ]
  },
  {
   "cell_type": "code",
   "execution_count": 159,
   "id": "279639d8-008c-4765-a8ba-f86df347491b",
   "metadata": {},
   "outputs": [
    {
     "name": "stdout",
     "output_type": "stream",
     "text": [
      "+------------------------+-----------+-------------------+---------------------+\n",
      "| Data Structure         | Operation | Number of Indexes | Average Comparisons |\n",
      "+------------------------+-----------+-------------------+---------------------+\n",
      "| Learning Augmented     | Deletion  | 2500              | 21                  |\n",
      "| Treap(Old model)       |           |                   |                     |\n",
      "+------------------------+-----------+-------------------+---------------------+\n",
      "| Learning Augmented     | Deletion  | 5000              | 22                  |\n",
      "| Treap(Old model)       |           |                   |                     |\n",
      "+------------------------+-----------+-------------------+---------------------+\n",
      "| Learning Augmented     | Deletion  | 7500              | 23                  |\n",
      "| Treap(Old model)       |           |                   |                     |\n",
      "+------------------------+-----------+-------------------+---------------------+\n",
      "| Learning Augmented     | Deletion  | 10000             | 16                  |\n",
      "| Treap(Old model)       |           |                   |                     |\n",
      "+------------------------+-----------+-------------------+---------------------+\n",
      "| Learning Augmented     | Deletion  | 12500             | 21                  |\n",
      "| Treap(Old model)       |           |                   |                     |\n",
      "+------------------------+-----------+-------------------+---------------------+\n",
      "| Learning Augmented     | Deletion  | 15000             | 25.445              |\n",
      "| Treap(Old model)       |           |                   |                     |\n",
      "+------------------------+-----------+-------------------+---------------------+\n",
      "| Learning Augmented     | Deletion  | 17500             | 31.133              |\n",
      "| Treap(Old model)       |           |                   |                     |\n",
      "+------------------------+-----------+-------------------+---------------------+\n",
      "| Learning Augmented     | Deletion  | 20000             | 31.453              |\n",
      "| Treap(Old model)       |           |                   |                     |\n",
      "+------------------------+-----------+-------------------+---------------------+\n",
      "| Learning Augmented     | Deletion  | 22500             | 32.193              |\n",
      "| Treap(Old model)       |           |                   |                     |\n",
      "+------------------------+-----------+-------------------+---------------------+\n",
      "| Learning Augmented     | Deletion  | 25000             | 31.180              |\n",
      "| Treap(Old model)       |           |                   |                     |\n",
      "+------------------------+-----------+-------------------+---------------------+\n",
      "| Learning Augmented     | Deletion  | 2500              | 16                  |\n",
      "| Treap(New model)       |           |                   |                     |\n",
      "+------------------------+-----------+-------------------+---------------------+\n",
      "| Learning Augmented     | Deletion  | 5000              | 13                  |\n",
      "| Treap(New model)       |           |                   |                     |\n",
      "+------------------------+-----------+-------------------+---------------------+\n",
      "| Learning Augmented     | Deletion  | 7500              | 14                  |\n",
      "| Treap(New model)       |           |                   |                     |\n",
      "+------------------------+-----------+-------------------+---------------------+\n",
      "| Learning Augmented     | Deletion  | 10000             | 11                  |\n",
      "| Treap(New model)       |           |                   |                     |\n",
      "+------------------------+-----------+-------------------+---------------------+\n",
      "| Learning Augmented     | Deletion  | 12500             | 12                  |\n",
      "| Treap(New model)       |           |                   |                     |\n",
      "+------------------------+-----------+-------------------+---------------------+\n",
      "| Learning Augmented     | Deletion  | 15000             | 11.995              |\n",
      "| Treap(New model)       |           |                   |                     |\n",
      "+------------------------+-----------+-------------------+---------------------+\n",
      "| Learning Augmented     | Deletion  | 17500             | 17.354              |\n",
      "| Treap(New model)       |           |                   |                     |\n",
      "+------------------------+-----------+-------------------+---------------------+\n",
      "| Learning Augmented     | Deletion  | 20000             | 23.009              |\n",
      "| Treap(New model)       |           |                   |                     |\n",
      "+------------------------+-----------+-------------------+---------------------+\n",
      "| Learning Augmented     | Deletion  | 22500             | 23.341              |\n",
      "| Treap(New model)       |           |                   |                     |\n",
      "+------------------------+-----------+-------------------+---------------------+\n",
      "| Learning Augmented     | Deletion  | 25000             | 23.946              |\n",
      "| Treap(New model)       |           |                   |                     |\n",
      "+------------------------+-----------+-------------------+---------------------+\n",
      "| Classic Treap          | Deletion  | 2500              | 27                  |\n",
      "+------------------------+-----------+-------------------+---------------------+\n",
      "| Classic Treap          | Deletion  | 5000              | 21                  |\n",
      "+------------------------+-----------+-------------------+---------------------+\n",
      "| Classic Treap          | Deletion  | 7500              | 30                  |\n",
      "+------------------------+-----------+-------------------+---------------------+\n",
      "| Classic Treap          | Deletion  | 10000             | 24                  |\n",
      "+------------------------+-----------+-------------------+---------------------+\n",
      "| Classic Treap          | Deletion  | 12500             | 28                  |\n",
      "+------------------------+-----------+-------------------+---------------------+\n",
      "| Classic Treap          | Deletion  | 15000             | 29.352              |\n",
      "+------------------------+-----------+-------------------+---------------------+\n",
      "| Classic Treap          | Deletion  | 17500             | 33.814              |\n",
      "+------------------------+-----------+-------------------+---------------------+\n",
      "| Classic Treap          | Deletion  | 20000             | 44.011              |\n",
      "+------------------------+-----------+-------------------+---------------------+\n",
      "| Classic Treap          | Deletion  | 22500             | 48.881              |\n",
      "+------------------------+-----------+-------------------+---------------------+\n",
      "| Classic Treap          | Deletion  | 25000             | 44.495              |\n",
      "+------------------------+-----------+-------------------+---------------------+\n"
     ]
    }
   ],
   "source": [
    "print(t2.draw())"
   ]
  }
 ],
 "metadata": {
  "kernelspec": {
   "display_name": "Python 3 (ipykernel)",
   "language": "python",
   "name": "python3"
  },
  "language_info": {
   "codemirror_mode": {
    "name": "ipython",
    "version": 3
   },
   "file_extension": ".py",
   "mimetype": "text/x-python",
   "name": "python",
   "nbconvert_exporter": "python",
   "pygments_lexer": "ipython3",
   "version": "3.10.10"
  }
 },
 "nbformat": 4,
 "nbformat_minor": 5
}
